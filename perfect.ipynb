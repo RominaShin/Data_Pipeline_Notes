{
 "cells": [
  {
   "cell_type": "markdown",
   "metadata": {},
   "source": [
    "# Prefect"
   ]
  },
  {
   "cell_type": "markdown",
   "metadata": {},
   "source": [
    "## Installation"
   ]
  },
  {
   "cell_type": "code",
   "execution_count": null,
   "metadata": {},
   "outputs": [],
   "source": [
    "!pip install prefect\n",
    "!pip install 'prefect[viz]"
   ]
  },
  {
   "cell_type": "markdown",
   "metadata": {},
   "source": [
    "## Elements:"
   ]
  },
  {
   "cell_type": "markdown",
   "metadata": {},
   "source": [
    "### Task(Functions):\n",
    "Define Functions with Decorator\n",
    "<br>\n",
    "* tasks could have single or multiple function\n",
    "\n",
    "<br>\n",
    "\n",
    "توی پرفکت به فانکشن های پایتون Task می گیم ( بدون در نظر گرفتن اینکه اون فانکشن چقد کار انجام میده و ... ) \n",
    "این تسک هارو میشه کاملا برنامه زمانی ( Schedule  ) داد که بر خلاف WorkFlow قابلیت تکرار شدن و چندبار اجرا شدن و حتی هم زمان اجرا شدن این تسک ها وجود داره.\n",
    "مثال:\n",
    "بعضی وقتا برای اینکه به بیشتر از یه فانکشن نیاز داریم می تونیم کلاس تعریف کنیم و خود لایبرری تسک رو که از پرفکت Import کردیم رو زیر کلاس می کنیم و توی اون می تونیم دو تا تابع __init__ و run تعریف کنیم. مثال:\n",
    "\n"
   ]
  },
  {
   "cell_type": "code",
   "execution_count": 1,
   "metadata": {},
   "outputs": [],
   "source": [
    "\n",
    "from prefect import task\n",
    "\n",
    "@task\n",
    "def say_hello(name):\n",
    "    print(f\"Hello, {name}!\")\n",
    "    \n",
    "    logger = prefect.context.get(\"logger\")\n",
    "    logger.info(\"An info message.\")\n",
    "    logger.warning(\"A warning message.\")\n"
   ]
  },
  {
   "cell_type": "code",
   "execution_count": 2,
   "metadata": {},
   "outputs": [],
   "source": [
    "from prefect import Task\n",
    "\n",
    "class AddTask(Task):\n",
    "\n",
    "    def __init__(self, default: int, *args, **kwargs):\n",
    "        super().__init__(*args, **kwargs)\n",
    "        self.default = default\n",
    "\n",
    "    def run(self, x: int, y: int=None) -> int:\n",
    "        if y is None:\n",
    "            y = self.default\n",
    "        return x + y\n",
    "\n",
    "# initialize the task instance\n",
    "add = AddTask(default=1)\n",
    "\n"
   ]
  },
  {
   "cell_type": "markdown",
   "metadata": {},
   "source": [
    "### Flows and States\n",
    "Creating Prefect Flow:\n",
    "\n",
    "* Write a Task Which is basically where you define core logic\n",
    "* Add a decorator over the task which defines the rules.\n",
    "* write a Flow which is grouping and managing the tasks."
   ]
  },
  {
   "cell_type": "code",
   "execution_count": 3,
   "metadata": {},
   "outputs": [],
   "source": [
    "from prefect import Flow\n",
    "\n",
    "with Flow(\"My first flow!\") as flow:\n",
    "    first_result = add(1, y=2)\n",
    "    second_result = add(x=first_result, y=100)\n"
   ]
  },
  {
   "cell_type": "markdown",
   "metadata": {},
   "source": [
    "to use graphical view"
   ]
  },
  {
   "cell_type": "code",
   "execution_count": 6,
   "metadata": {},
   "outputs": [
    {
     "ename": "AttributeError",
     "evalue": "module 'graphviz.backend' has no attribute 'ENCODING'",
     "output_type": "error",
     "traceback": [
      "\u001b[1;31m---------------------------------------------------------------------------\u001b[0m",
      "\u001b[1;31mAttributeError\u001b[0m                            Traceback (most recent call last)",
      "\u001b[1;32m~\\AppData\\Local\\Temp/ipykernel_23412/274807944.py\u001b[0m in \u001b[0;36m<module>\u001b[1;34m\u001b[0m\n\u001b[1;32m----> 1\u001b[1;33m \u001b[0mflow\u001b[0m\u001b[1;33m.\u001b[0m\u001b[0mvisualize\u001b[0m\u001b[1;33m(\u001b[0m\u001b[1;33m)\u001b[0m\u001b[1;33m\u001b[0m\u001b[1;33m\u001b[0m\u001b[0m\n\u001b[0m\u001b[0;32m      2\u001b[0m \u001b[1;31m# flow.register(project_name=\"prefect_example\")\u001b[0m\u001b[1;33m\u001b[0m\u001b[1;33m\u001b[0m\u001b[0m\n",
      "\u001b[1;32m~\\.conda\\envs\\myclone\\lib\\site-packages\\prefect\\core\\flow.py\u001b[0m in \u001b[0;36mvisualize\u001b[1;34m(self, flow_state, filename, format)\u001b[0m\n\u001b[0;32m   1325\u001b[0m \u001b[1;33m\u001b[0m\u001b[0m\n\u001b[0;32m   1326\u001b[0m         \u001b[1;32mtry\u001b[0m\u001b[1;33m:\u001b[0m\u001b[1;33m\u001b[0m\u001b[1;33m\u001b[0m\u001b[0m\n\u001b[1;32m-> 1327\u001b[1;33m             \u001b[1;32mimport\u001b[0m \u001b[0mgraphviz\u001b[0m\u001b[1;33m\u001b[0m\u001b[1;33m\u001b[0m\u001b[0m\n\u001b[0m\u001b[0;32m   1328\u001b[0m         \u001b[1;32mexcept\u001b[0m \u001b[0mImportError\u001b[0m \u001b[1;32mas\u001b[0m \u001b[0mexc\u001b[0m\u001b[1;33m:\u001b[0m\u001b[1;33m\u001b[0m\u001b[1;33m\u001b[0m\u001b[0m\n\u001b[0;32m   1329\u001b[0m             msg = (\n",
      "\u001b[1;32m~\\.conda\\envs\\myclone\\lib\\site-packages\\graphviz\\__init__.py\u001b[0m in \u001b[0;36m<module>\u001b[1;34m\u001b[0m\n\u001b[0;32m     25\u001b[0m \"\"\"\n\u001b[0;32m     26\u001b[0m \u001b[1;33m\u001b[0m\u001b[0m\n\u001b[1;32m---> 27\u001b[1;33m \u001b[1;32mfrom\u001b[0m \u001b[1;33m.\u001b[0m\u001b[0mdot\u001b[0m \u001b[1;32mimport\u001b[0m \u001b[0mGraph\u001b[0m\u001b[1;33m,\u001b[0m \u001b[0mDigraph\u001b[0m\u001b[1;33m\u001b[0m\u001b[1;33m\u001b[0m\u001b[0m\n\u001b[0m\u001b[0;32m     28\u001b[0m \u001b[1;32mfrom\u001b[0m \u001b[1;33m.\u001b[0m\u001b[0mfiles\u001b[0m \u001b[1;32mimport\u001b[0m \u001b[0mSource\u001b[0m\u001b[1;33m\u001b[0m\u001b[1;33m\u001b[0m\u001b[0m\n\u001b[0;32m     29\u001b[0m \u001b[1;32mfrom\u001b[0m \u001b[1;33m.\u001b[0m\u001b[0mlang\u001b[0m \u001b[1;32mimport\u001b[0m \u001b[0mescape\u001b[0m\u001b[1;33m,\u001b[0m \u001b[0mnohtml\u001b[0m\u001b[1;33m\u001b[0m\u001b[1;33m\u001b[0m\u001b[0m\n",
      "\u001b[1;32m~\\.conda\\envs\\myclone\\lib\\site-packages\\graphviz\\dot.py\u001b[0m in \u001b[0;36m<module>\u001b[1;34m\u001b[0m\n\u001b[0;32m     30\u001b[0m \u001b[1;33m\u001b[0m\u001b[0m\n\u001b[0;32m     31\u001b[0m \u001b[1;32mfrom\u001b[0m \u001b[1;33m.\u001b[0m \u001b[1;32mimport\u001b[0m \u001b[0mbackend\u001b[0m\u001b[1;33m\u001b[0m\u001b[1;33m\u001b[0m\u001b[0m\n\u001b[1;32m---> 32\u001b[1;33m \u001b[1;32mfrom\u001b[0m \u001b[1;33m.\u001b[0m \u001b[1;32mimport\u001b[0m \u001b[0mfiles\u001b[0m\u001b[1;33m\u001b[0m\u001b[1;33m\u001b[0m\u001b[0m\n\u001b[0m\u001b[0;32m     33\u001b[0m \u001b[1;32mfrom\u001b[0m \u001b[1;33m.\u001b[0m \u001b[1;32mimport\u001b[0m \u001b[0mlang\u001b[0m\u001b[1;33m\u001b[0m\u001b[1;33m\u001b[0m\u001b[0m\n\u001b[0;32m     34\u001b[0m \u001b[1;33m\u001b[0m\u001b[0m\n",
      "\u001b[1;32m~\\.conda\\envs\\myclone\\lib\\site-packages\\graphviz\\files.py\u001b[0m in \u001b[0;36m<module>\u001b[1;34m\u001b[0m\n\u001b[0;32m     20\u001b[0m \u001b[1;33m\u001b[0m\u001b[0m\n\u001b[0;32m     21\u001b[0m \u001b[1;33m\u001b[0m\u001b[0m\n\u001b[1;32m---> 22\u001b[1;33m \u001b[1;32mclass\u001b[0m \u001b[0mBase\u001b[0m\u001b[1;33m(\u001b[0m\u001b[0mobject\u001b[0m\u001b[1;33m)\u001b[0m\u001b[1;33m:\u001b[0m\u001b[1;33m\u001b[0m\u001b[1;33m\u001b[0m\u001b[0m\n\u001b[0m\u001b[0;32m     23\u001b[0m \u001b[1;33m\u001b[0m\u001b[0m\n\u001b[0;32m     24\u001b[0m     \u001b[0m_engine\u001b[0m \u001b[1;33m=\u001b[0m \u001b[1;34m'dot'\u001b[0m\u001b[1;33m\u001b[0m\u001b[1;33m\u001b[0m\u001b[0m\n",
      "\u001b[1;32m~\\.conda\\envs\\myclone\\lib\\site-packages\\graphviz\\files.py\u001b[0m in \u001b[0;36mBase\u001b[1;34m()\u001b[0m\n\u001b[0;32m     26\u001b[0m     \u001b[0m_format\u001b[0m \u001b[1;33m=\u001b[0m \u001b[1;34m'pdf'\u001b[0m\u001b[1;33m\u001b[0m\u001b[1;33m\u001b[0m\u001b[0m\n\u001b[0;32m     27\u001b[0m \u001b[1;33m\u001b[0m\u001b[0m\n\u001b[1;32m---> 28\u001b[1;33m     \u001b[0m_encoding\u001b[0m \u001b[1;33m=\u001b[0m \u001b[0mbackend\u001b[0m\u001b[1;33m.\u001b[0m\u001b[0mENCODING\u001b[0m\u001b[1;33m\u001b[0m\u001b[1;33m\u001b[0m\u001b[0m\n\u001b[0m\u001b[0;32m     29\u001b[0m \u001b[1;33m\u001b[0m\u001b[0m\n\u001b[0;32m     30\u001b[0m     \u001b[1;33m@\u001b[0m\u001b[0mproperty\u001b[0m\u001b[1;33m\u001b[0m\u001b[1;33m\u001b[0m\u001b[0m\n",
      "\u001b[1;31mAttributeError\u001b[0m: module 'graphviz.backend' has no attribute 'ENCODING'"
     ]
    }
   ],
   "source": [
    "flow.visualize()\n",
    "# flow.register(project_name=\"prefect_example\")"
   ]
  },
  {
   "cell_type": "code",
   "execution_count": 17,
   "metadata": {},
   "outputs": [
    {
     "name": "stdout",
     "output_type": "stream",
     "text": [
      "[2022-02-20 16:49:27+0330] INFO - prefect.FlowRunner | Beginning Flow run for 'My first flow!'\n",
      "[2022-02-20 16:49:27+0330] INFO - prefect.TaskRunner | Task 'AddTask': Starting task run...\n",
      "[2022-02-20 16:49:27+0330] INFO - prefect.TaskRunner | Task 'AddTask': Finished task run for task with final state: 'Success'\n",
      "[2022-02-20 16:49:27+0330] INFO - prefect.TaskRunner | Task 'AddTask': Starting task run...\n",
      "[2022-02-20 16:49:27+0330] INFO - prefect.TaskRunner | Task 'AddTask': Finished task run for task with final state: 'Success'\n",
      "[2022-02-20 16:49:27+0330] INFO - prefect.FlowRunner | Flow run SUCCESS: all reference tasks succeeded\n"
     ]
    }
   ],
   "source": [
    "state = flow.run()\n",
    "\n",
    "assert state.is_successful()\n",
    "\n",
    "first_task_state = state.result[first_result]\n",
    "assert first_task_state.is_successful()\n",
    "assert first_task_state.result == 3 \n",
    "\n",
    "second_task_state = state.result[second_result]\n",
    "assert second_task_state.is_successful()\n",
    "assert second_task_state.result == 103\n",
    "\n"
   ]
  },
  {
   "cell_type": "markdown",
   "metadata": {},
   "source": [
    "### Parameters\n",
    "\n",
    "امکان دیگه ای که پرفکت بهمون میده اینه که میشه توی فلو از یه چیزی به نام  parameter استفاده کرد. این پارامتر در واقع تابع هایی ان که توی خود فلو می تونیم بنویسیم و به مقاصد مختلف ازشون استفاده کنیم.\n",
    "\n",
    "نوشتن و روش استفاده ازشون:\n"
   ]
  },
  {
   "cell_type": "code",
   "execution_count": 29,
   "metadata": {},
   "outputs": [
    {
     "name": "stdout",
     "output_type": "stream",
     "text": [
      "[2022-02-20 17:19:14+0330] INFO - prefect.FlowRunner | Beginning Flow run for 'Say hi!'\n",
      "[2022-02-20 17:19:14+0330] INFO - prefect.TaskRunner | Task 'name': Starting task run...\n",
      "[2022-02-20 17:19:14+0330] INFO - prefect.TaskRunner | Task 'name': Finished task run for task with final state: 'Success'\n",
      "[2022-02-20 17:19:14+0330] INFO - prefect.TaskRunner | Task 'say_hello': Starting task run...\n",
      "Hello, Marvin!\n",
      "[2022-02-20 17:19:14+0330] ERROR - prefect.TaskRunner | Task 'say_hello': Exception encountered during task execution!\n",
      "Traceback (most recent call last):\n",
      "  File \"C:\\Users\\Romina\\.conda\\envs\\myclone\\lib\\site-packages\\prefect\\engine\\task_runner.py\", line 876, in get_task_run_state\n",
      "    value = prefect.utilities.executors.run_task_with_timeout(\n",
      "  File \"C:\\Users\\Romina\\.conda\\envs\\myclone\\lib\\site-packages\\prefect\\utilities\\executors.py\", line 467, in run_task_with_timeout\n",
      "    return task.run(*args, **kwargs)  # type: ignore\n",
      "  File \"C:\\Users\\Romina\\AppData\\Local\\Temp/ipykernel_24224/256774514.py\", line 7, in say_hello\n",
      "    logger = prefect.context.get(\"logger\")\n",
      "NameError: name 'prefect' is not defined\n",
      "[2022-02-20 17:19:14+0330] INFO - prefect.TaskRunner | Task 'say_hello': Finished task run for task with final state: 'Failed'\n",
      "[2022-02-20 17:19:14+0330] INFO - prefect.FlowRunner | Flow run FAILED: some reference tasks failed.\n"
     ]
    },
    {
     "ename": "AssertionError",
     "evalue": "",
     "output_type": "error",
     "traceback": [
      "\u001b[1;31m---------------------------------------------------------------------------\u001b[0m",
      "\u001b[1;31mAssertionError\u001b[0m                            Traceback (most recent call last)",
      "\u001b[1;32m~\\AppData\\Local\\Temp/ipykernel_24224/214143430.py\u001b[0m in \u001b[0;36m<module>\u001b[1;34m\u001b[0m\n\u001b[0;32m      7\u001b[0m \u001b[0mstate\u001b[0m \u001b[1;33m=\u001b[0m \u001b[0mflow\u001b[0m\u001b[1;33m.\u001b[0m\u001b[0mrun\u001b[0m\u001b[1;33m(\u001b[0m\u001b[0mname\u001b[0m\u001b[1;33m=\u001b[0m\u001b[1;34m\"Marvin\"\u001b[0m\u001b[1;33m)\u001b[0m\u001b[1;33m\u001b[0m\u001b[1;33m\u001b[0m\u001b[0m\n\u001b[0;32m      8\u001b[0m \u001b[0mtask_state\u001b[0m \u001b[1;33m=\u001b[0m \u001b[0mstate\u001b[0m\u001b[1;33m.\u001b[0m\u001b[0mresult\u001b[0m\u001b[1;33m[\u001b[0m\u001b[0mx\u001b[0m\u001b[1;33m]\u001b[0m\u001b[1;33m\u001b[0m\u001b[1;33m\u001b[0m\u001b[0m\n\u001b[1;32m----> 9\u001b[1;33m \u001b[1;32massert\u001b[0m \u001b[0mtask_state\u001b[0m\u001b[1;33m.\u001b[0m\u001b[0mresult\u001b[0m \u001b[1;33m==\u001b[0m \u001b[1;34m'Hello, Marvin!'\u001b[0m\u001b[1;33m\u001b[0m\u001b[1;33m\u001b[0m\u001b[0m\n\u001b[0m\u001b[0;32m     10\u001b[0m \u001b[1;32massert\u001b[0m \u001b[0mtask_state\u001b[0m\u001b[1;33m.\u001b[0m\u001b[0mresult\u001b[0m \u001b[1;33m==\u001b[0m \u001b[1;34m'hello Marvin!'\u001b[0m\u001b[1;33m\u001b[0m\u001b[1;33m\u001b[0m\u001b[0m\n\u001b[0;32m     11\u001b[0m \u001b[1;33m\u001b[0m\u001b[0m\n",
      "\u001b[1;31mAssertionError\u001b[0m: "
     ]
    }
   ],
   "source": [
    "from prefect import Parameter\n",
    "\n",
    "with Flow(\"Say hi!\") as flow:\n",
    "    name = Parameter(\"name\")\n",
    "    x = say_hello(name)\n",
    "\n",
    "state = flow.run(name=\"Marvin\")\n",
    "task_state = state.result[x]\n",
    "assert task_state.result == 'Hello, Marvin!'\n",
    "assert task_state.result == 'hello Marvin!' \n",
    "\n",
    "\n",
    "# ... [logs]\n",
    "# \"Hello, Marvin!\"\n",
    "# ... [logs]\n"
   ]
  },
  {
   "cell_type": "code",
   "execution_count": 20,
   "metadata": {},
   "outputs": [
    {
     "data": {
      "text/plain": [
       "<Task: AddTask>"
      ]
     },
     "execution_count": 20,
     "metadata": {},
     "output_type": "execute_result"
    }
   ],
   "source": [
    "flow = Flow(\"My imperative flow!\")\n",
    "\n",
    "# define some new tasks\n",
    "name = Parameter(\"name\")\n",
    "second_add = add.copy()\n",
    "\n",
    "# add our tasks to the flow\n",
    "flow.add_task(add)\n",
    "flow.add_task(second_add)\n",
    "flow.add_task(say_hello)\n",
    "\n",
    "# create non-data dependencies so that `say_hello` waits for `second_add` to finish.\n",
    "say_hello.set_upstream(second_add, flow=flow)\n",
    "\n",
    "# create data bindings\n",
    "add.bind(x=1, y=2, flow=flow)\n",
    "second_add.bind(x=add, y=100, flow=flow)\n",
    "# say_hello.bind(person=name, flow=flow)\n"
   ]
  },
  {
   "cell_type": "code",
   "execution_count": null,
   "metadata": {},
   "outputs": [],
   "source": []
  }
 ],
 "metadata": {
  "interpreter": {
   "hash": "b30ffa3ee2955bd5ec2696c0a65f0c501b4bdbc72de16356b1174d31377e8586"
  },
  "kernelspec": {
   "display_name": "Python 3.9.7 64-bit ('myclone': conda)",
   "language": "python",
   "name": "python3"
  },
  "language_info": {
   "codemirror_mode": {
    "name": "ipython",
    "version": 3
   },
   "file_extension": ".py",
   "mimetype": "text/x-python",
   "name": "python",
   "nbconvert_exporter": "python",
   "pygments_lexer": "ipython3",
   "version": "3.9.7"
  },
  "orig_nbformat": 4
 },
 "nbformat": 4,
 "nbformat_minor": 2
}
