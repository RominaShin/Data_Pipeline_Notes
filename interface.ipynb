{
  "nbformat": 4,
  "nbformat_minor": 0,
  "metadata": {
    "colab": {
      "name": "interface.ipynb",
      "provenance": [],
      "collapsed_sections": [
        "TD7qkpvrFbpL",
        "ho8Im_9A7ZRa",
        "ACzImFYC7ViS"
      ]
    },
    "kernelspec": {
      "name": "python3",
      "display_name": "Python 3"
    },
    "language_info": {
      "name": "python"
    },
    "widgets": {
      "application/vnd.jupyter.widget-state+json": {
        "b56705937ff1466999f6a731fd228490": {
          "model_module": "@jupyter-widgets/controls",
          "model_name": "HBoxModel",
          "model_module_version": "1.5.0",
          "state": {
            "_view_name": "HBoxView",
            "_dom_classes": [],
            "_model_name": "HBoxModel",
            "_view_module": "@jupyter-widgets/controls",
            "_model_module_version": "1.5.0",
            "_view_count": null,
            "_view_module_version": "1.5.0",
            "box_style": "",
            "layout": "IPY_MODEL_0369800276394ff799f91746f23a849e",
            "_model_module": "@jupyter-widgets/controls",
            "children": [
              "IPY_MODEL_7483a69966814751894543d98cadd018",
              "IPY_MODEL_45a76e4515e54f5aa56ab27d6dc4af71",
              "IPY_MODEL_f0152174bfa64cf2accbedd9402d6b3e"
            ]
          }
        },
        "0369800276394ff799f91746f23a849e": {
          "model_module": "@jupyter-widgets/base",
          "model_name": "LayoutModel",
          "model_module_version": "1.2.0",
          "state": {
            "_view_name": "LayoutView",
            "grid_template_rows": null,
            "right": null,
            "justify_content": null,
            "_view_module": "@jupyter-widgets/base",
            "overflow": null,
            "_model_module_version": "1.2.0",
            "_view_count": null,
            "flex_flow": null,
            "width": null,
            "min_width": null,
            "border": null,
            "align_items": null,
            "bottom": null,
            "_model_module": "@jupyter-widgets/base",
            "top": null,
            "grid_column": null,
            "overflow_y": null,
            "overflow_x": null,
            "grid_auto_flow": null,
            "grid_area": null,
            "grid_template_columns": null,
            "flex": null,
            "_model_name": "LayoutModel",
            "justify_items": null,
            "grid_row": null,
            "max_height": null,
            "align_content": null,
            "visibility": null,
            "align_self": null,
            "height": null,
            "min_height": null,
            "padding": null,
            "grid_auto_rows": null,
            "grid_gap": null,
            "max_width": null,
            "order": null,
            "_view_module_version": "1.2.0",
            "grid_template_areas": null,
            "object_position": null,
            "object_fit": null,
            "grid_auto_columns": null,
            "margin": null,
            "display": null,
            "left": null
          }
        },
        "7483a69966814751894543d98cadd018": {
          "model_module": "@jupyter-widgets/controls",
          "model_name": "HTMLModel",
          "model_module_version": "1.5.0",
          "state": {
            "_view_name": "HTMLView",
            "style": "IPY_MODEL_9fbbfc8944e84d58b67fd05ebee7192f",
            "_dom_classes": [],
            "description": "",
            "_model_name": "HTMLModel",
            "placeholder": "​",
            "_view_module": "@jupyter-widgets/controls",
            "_model_module_version": "1.5.0",
            "value": "Summarize dataset: 100%",
            "_view_count": null,
            "_view_module_version": "1.5.0",
            "description_tooltip": null,
            "_model_module": "@jupyter-widgets/controls",
            "layout": "IPY_MODEL_499aecbb405b437d9cadce0878485064"
          }
        },
        "45a76e4515e54f5aa56ab27d6dc4af71": {
          "model_module": "@jupyter-widgets/controls",
          "model_name": "FloatProgressModel",
          "model_module_version": "1.5.0",
          "state": {
            "_view_name": "ProgressView",
            "style": "IPY_MODEL_cf6e106f40614a719326301d549af310",
            "_dom_classes": [],
            "description": "",
            "_model_name": "FloatProgressModel",
            "bar_style": "success",
            "max": 35,
            "_view_module": "@jupyter-widgets/controls",
            "_model_module_version": "1.5.0",
            "value": 35,
            "_view_count": null,
            "_view_module_version": "1.5.0",
            "orientation": "horizontal",
            "min": 0,
            "description_tooltip": null,
            "_model_module": "@jupyter-widgets/controls",
            "layout": "IPY_MODEL_88a7a42085ff430cba8a8be4edba3e59"
          }
        },
        "f0152174bfa64cf2accbedd9402d6b3e": {
          "model_module": "@jupyter-widgets/controls",
          "model_name": "HTMLModel",
          "model_module_version": "1.5.0",
          "state": {
            "_view_name": "HTMLView",
            "style": "IPY_MODEL_3ba9a0c6a23e4f1885395f3916f10443",
            "_dom_classes": [],
            "description": "",
            "_model_name": "HTMLModel",
            "placeholder": "​",
            "_view_module": "@jupyter-widgets/controls",
            "_model_module_version": "1.5.0",
            "value": " 35/35 [00:18&lt;00:00,  1.31s/it, Completed]",
            "_view_count": null,
            "_view_module_version": "1.5.0",
            "description_tooltip": null,
            "_model_module": "@jupyter-widgets/controls",
            "layout": "IPY_MODEL_e5c0ebaf1d9a43b2bb83e056828d51b4"
          }
        },
        "9fbbfc8944e84d58b67fd05ebee7192f": {
          "model_module": "@jupyter-widgets/controls",
          "model_name": "DescriptionStyleModel",
          "model_module_version": "1.5.0",
          "state": {
            "_view_name": "StyleView",
            "_model_name": "DescriptionStyleModel",
            "description_width": "",
            "_view_module": "@jupyter-widgets/base",
            "_model_module_version": "1.5.0",
            "_view_count": null,
            "_view_module_version": "1.2.0",
            "_model_module": "@jupyter-widgets/controls"
          }
        },
        "499aecbb405b437d9cadce0878485064": {
          "model_module": "@jupyter-widgets/base",
          "model_name": "LayoutModel",
          "model_module_version": "1.2.0",
          "state": {
            "_view_name": "LayoutView",
            "grid_template_rows": null,
            "right": null,
            "justify_content": null,
            "_view_module": "@jupyter-widgets/base",
            "overflow": null,
            "_model_module_version": "1.2.0",
            "_view_count": null,
            "flex_flow": null,
            "width": null,
            "min_width": null,
            "border": null,
            "align_items": null,
            "bottom": null,
            "_model_module": "@jupyter-widgets/base",
            "top": null,
            "grid_column": null,
            "overflow_y": null,
            "overflow_x": null,
            "grid_auto_flow": null,
            "grid_area": null,
            "grid_template_columns": null,
            "flex": null,
            "_model_name": "LayoutModel",
            "justify_items": null,
            "grid_row": null,
            "max_height": null,
            "align_content": null,
            "visibility": null,
            "align_self": null,
            "height": null,
            "min_height": null,
            "padding": null,
            "grid_auto_rows": null,
            "grid_gap": null,
            "max_width": null,
            "order": null,
            "_view_module_version": "1.2.0",
            "grid_template_areas": null,
            "object_position": null,
            "object_fit": null,
            "grid_auto_columns": null,
            "margin": null,
            "display": null,
            "left": null
          }
        },
        "cf6e106f40614a719326301d549af310": {
          "model_module": "@jupyter-widgets/controls",
          "model_name": "ProgressStyleModel",
          "model_module_version": "1.5.0",
          "state": {
            "_view_name": "StyleView",
            "_model_name": "ProgressStyleModel",
            "description_width": "",
            "_view_module": "@jupyter-widgets/base",
            "_model_module_version": "1.5.0",
            "_view_count": null,
            "_view_module_version": "1.2.0",
            "bar_color": null,
            "_model_module": "@jupyter-widgets/controls"
          }
        },
        "88a7a42085ff430cba8a8be4edba3e59": {
          "model_module": "@jupyter-widgets/base",
          "model_name": "LayoutModel",
          "model_module_version": "1.2.0",
          "state": {
            "_view_name": "LayoutView",
            "grid_template_rows": null,
            "right": null,
            "justify_content": null,
            "_view_module": "@jupyter-widgets/base",
            "overflow": null,
            "_model_module_version": "1.2.0",
            "_view_count": null,
            "flex_flow": null,
            "width": null,
            "min_width": null,
            "border": null,
            "align_items": null,
            "bottom": null,
            "_model_module": "@jupyter-widgets/base",
            "top": null,
            "grid_column": null,
            "overflow_y": null,
            "overflow_x": null,
            "grid_auto_flow": null,
            "grid_area": null,
            "grid_template_columns": null,
            "flex": null,
            "_model_name": "LayoutModel",
            "justify_items": null,
            "grid_row": null,
            "max_height": null,
            "align_content": null,
            "visibility": null,
            "align_self": null,
            "height": null,
            "min_height": null,
            "padding": null,
            "grid_auto_rows": null,
            "grid_gap": null,
            "max_width": null,
            "order": null,
            "_view_module_version": "1.2.0",
            "grid_template_areas": null,
            "object_position": null,
            "object_fit": null,
            "grid_auto_columns": null,
            "margin": null,
            "display": null,
            "left": null
          }
        },
        "3ba9a0c6a23e4f1885395f3916f10443": {
          "model_module": "@jupyter-widgets/controls",
          "model_name": "DescriptionStyleModel",
          "model_module_version": "1.5.0",
          "state": {
            "_view_name": "StyleView",
            "_model_name": "DescriptionStyleModel",
            "description_width": "",
            "_view_module": "@jupyter-widgets/base",
            "_model_module_version": "1.5.0",
            "_view_count": null,
            "_view_module_version": "1.2.0",
            "_model_module": "@jupyter-widgets/controls"
          }
        },
        "e5c0ebaf1d9a43b2bb83e056828d51b4": {
          "model_module": "@jupyter-widgets/base",
          "model_name": "LayoutModel",
          "model_module_version": "1.2.0",
          "state": {
            "_view_name": "LayoutView",
            "grid_template_rows": null,
            "right": null,
            "justify_content": null,
            "_view_module": "@jupyter-widgets/base",
            "overflow": null,
            "_model_module_version": "1.2.0",
            "_view_count": null,
            "flex_flow": null,
            "width": null,
            "min_width": null,
            "border": null,
            "align_items": null,
            "bottom": null,
            "_model_module": "@jupyter-widgets/base",
            "top": null,
            "grid_column": null,
            "overflow_y": null,
            "overflow_x": null,
            "grid_auto_flow": null,
            "grid_area": null,
            "grid_template_columns": null,
            "flex": null,
            "_model_name": "LayoutModel",
            "justify_items": null,
            "grid_row": null,
            "max_height": null,
            "align_content": null,
            "visibility": null,
            "align_self": null,
            "height": null,
            "min_height": null,
            "padding": null,
            "grid_auto_rows": null,
            "grid_gap": null,
            "max_width": null,
            "order": null,
            "_view_module_version": "1.2.0",
            "grid_template_areas": null,
            "object_position": null,
            "object_fit": null,
            "grid_auto_columns": null,
            "margin": null,
            "display": null,
            "left": null
          }
        },
        "97e6c6dc2b7d45a1911a82d777b4e42c": {
          "model_module": "@jupyter-widgets/controls",
          "model_name": "HBoxModel",
          "model_module_version": "1.5.0",
          "state": {
            "_view_name": "HBoxView",
            "_dom_classes": [],
            "_model_name": "HBoxModel",
            "_view_module": "@jupyter-widgets/controls",
            "_model_module_version": "1.5.0",
            "_view_count": null,
            "_view_module_version": "1.5.0",
            "box_style": "",
            "layout": "IPY_MODEL_70416652a84c47feac8395e755fbf50c",
            "_model_module": "@jupyter-widgets/controls",
            "children": [
              "IPY_MODEL_099eb99b2ac349eb969bdf6bcf10761e",
              "IPY_MODEL_bfbcc2529e7c4bb093ed51997b0ee4fc",
              "IPY_MODEL_8ede97885891456682f022166884adad"
            ]
          }
        },
        "70416652a84c47feac8395e755fbf50c": {
          "model_module": "@jupyter-widgets/base",
          "model_name": "LayoutModel",
          "model_module_version": "1.2.0",
          "state": {
            "_view_name": "LayoutView",
            "grid_template_rows": null,
            "right": null,
            "justify_content": null,
            "_view_module": "@jupyter-widgets/base",
            "overflow": null,
            "_model_module_version": "1.2.0",
            "_view_count": null,
            "flex_flow": null,
            "width": null,
            "min_width": null,
            "border": null,
            "align_items": null,
            "bottom": null,
            "_model_module": "@jupyter-widgets/base",
            "top": null,
            "grid_column": null,
            "overflow_y": null,
            "overflow_x": null,
            "grid_auto_flow": null,
            "grid_area": null,
            "grid_template_columns": null,
            "flex": null,
            "_model_name": "LayoutModel",
            "justify_items": null,
            "grid_row": null,
            "max_height": null,
            "align_content": null,
            "visibility": null,
            "align_self": null,
            "height": null,
            "min_height": null,
            "padding": null,
            "grid_auto_rows": null,
            "grid_gap": null,
            "max_width": null,
            "order": null,
            "_view_module_version": "1.2.0",
            "grid_template_areas": null,
            "object_position": null,
            "object_fit": null,
            "grid_auto_columns": null,
            "margin": null,
            "display": null,
            "left": null
          }
        },
        "099eb99b2ac349eb969bdf6bcf10761e": {
          "model_module": "@jupyter-widgets/controls",
          "model_name": "HTMLModel",
          "model_module_version": "1.5.0",
          "state": {
            "_view_name": "HTMLView",
            "style": "IPY_MODEL_2c16b08c247c49b8ae1807b80b7f00e4",
            "_dom_classes": [],
            "description": "",
            "_model_name": "HTMLModel",
            "placeholder": "​",
            "_view_module": "@jupyter-widgets/controls",
            "_model_module_version": "1.5.0",
            "value": "Generate report structure: 100%",
            "_view_count": null,
            "_view_module_version": "1.5.0",
            "description_tooltip": null,
            "_model_module": "@jupyter-widgets/controls",
            "layout": "IPY_MODEL_32c4dc4feeff4d0b9e29d27a78c9cdf0"
          }
        },
        "bfbcc2529e7c4bb093ed51997b0ee4fc": {
          "model_module": "@jupyter-widgets/controls",
          "model_name": "FloatProgressModel",
          "model_module_version": "1.5.0",
          "state": {
            "_view_name": "ProgressView",
            "style": "IPY_MODEL_77c8f62455dc46e6b798c57d630231b8",
            "_dom_classes": [],
            "description": "",
            "_model_name": "FloatProgressModel",
            "bar_style": "success",
            "max": 1,
            "_view_module": "@jupyter-widgets/controls",
            "_model_module_version": "1.5.0",
            "value": 1,
            "_view_count": null,
            "_view_module_version": "1.5.0",
            "orientation": "horizontal",
            "min": 0,
            "description_tooltip": null,
            "_model_module": "@jupyter-widgets/controls",
            "layout": "IPY_MODEL_ee7d8d3174844ff4b38cbd9328302330"
          }
        },
        "8ede97885891456682f022166884adad": {
          "model_module": "@jupyter-widgets/controls",
          "model_name": "HTMLModel",
          "model_module_version": "1.5.0",
          "state": {
            "_view_name": "HTMLView",
            "style": "IPY_MODEL_ec7a37ac8b84443eb128e8b5acb17c20",
            "_dom_classes": [],
            "description": "",
            "_model_name": "HTMLModel",
            "placeholder": "​",
            "_view_module": "@jupyter-widgets/controls",
            "_model_module_version": "1.5.0",
            "value": " 1/1 [00:11&lt;00:00, 11.91s/it]",
            "_view_count": null,
            "_view_module_version": "1.5.0",
            "description_tooltip": null,
            "_model_module": "@jupyter-widgets/controls",
            "layout": "IPY_MODEL_62caa908575441789f42525f880eef17"
          }
        },
        "2c16b08c247c49b8ae1807b80b7f00e4": {
          "model_module": "@jupyter-widgets/controls",
          "model_name": "DescriptionStyleModel",
          "model_module_version": "1.5.0",
          "state": {
            "_view_name": "StyleView",
            "_model_name": "DescriptionStyleModel",
            "description_width": "",
            "_view_module": "@jupyter-widgets/base",
            "_model_module_version": "1.5.0",
            "_view_count": null,
            "_view_module_version": "1.2.0",
            "_model_module": "@jupyter-widgets/controls"
          }
        },
        "32c4dc4feeff4d0b9e29d27a78c9cdf0": {
          "model_module": "@jupyter-widgets/base",
          "model_name": "LayoutModel",
          "model_module_version": "1.2.0",
          "state": {
            "_view_name": "LayoutView",
            "grid_template_rows": null,
            "right": null,
            "justify_content": null,
            "_view_module": "@jupyter-widgets/base",
            "overflow": null,
            "_model_module_version": "1.2.0",
            "_view_count": null,
            "flex_flow": null,
            "width": null,
            "min_width": null,
            "border": null,
            "align_items": null,
            "bottom": null,
            "_model_module": "@jupyter-widgets/base",
            "top": null,
            "grid_column": null,
            "overflow_y": null,
            "overflow_x": null,
            "grid_auto_flow": null,
            "grid_area": null,
            "grid_template_columns": null,
            "flex": null,
            "_model_name": "LayoutModel",
            "justify_items": null,
            "grid_row": null,
            "max_height": null,
            "align_content": null,
            "visibility": null,
            "align_self": null,
            "height": null,
            "min_height": null,
            "padding": null,
            "grid_auto_rows": null,
            "grid_gap": null,
            "max_width": null,
            "order": null,
            "_view_module_version": "1.2.0",
            "grid_template_areas": null,
            "object_position": null,
            "object_fit": null,
            "grid_auto_columns": null,
            "margin": null,
            "display": null,
            "left": null
          }
        },
        "77c8f62455dc46e6b798c57d630231b8": {
          "model_module": "@jupyter-widgets/controls",
          "model_name": "ProgressStyleModel",
          "model_module_version": "1.5.0",
          "state": {
            "_view_name": "StyleView",
            "_model_name": "ProgressStyleModel",
            "description_width": "",
            "_view_module": "@jupyter-widgets/base",
            "_model_module_version": "1.5.0",
            "_view_count": null,
            "_view_module_version": "1.2.0",
            "bar_color": null,
            "_model_module": "@jupyter-widgets/controls"
          }
        },
        "ee7d8d3174844ff4b38cbd9328302330": {
          "model_module": "@jupyter-widgets/base",
          "model_name": "LayoutModel",
          "model_module_version": "1.2.0",
          "state": {
            "_view_name": "LayoutView",
            "grid_template_rows": null,
            "right": null,
            "justify_content": null,
            "_view_module": "@jupyter-widgets/base",
            "overflow": null,
            "_model_module_version": "1.2.0",
            "_view_count": null,
            "flex_flow": null,
            "width": null,
            "min_width": null,
            "border": null,
            "align_items": null,
            "bottom": null,
            "_model_module": "@jupyter-widgets/base",
            "top": null,
            "grid_column": null,
            "overflow_y": null,
            "overflow_x": null,
            "grid_auto_flow": null,
            "grid_area": null,
            "grid_template_columns": null,
            "flex": null,
            "_model_name": "LayoutModel",
            "justify_items": null,
            "grid_row": null,
            "max_height": null,
            "align_content": null,
            "visibility": null,
            "align_self": null,
            "height": null,
            "min_height": null,
            "padding": null,
            "grid_auto_rows": null,
            "grid_gap": null,
            "max_width": null,
            "order": null,
            "_view_module_version": "1.2.0",
            "grid_template_areas": null,
            "object_position": null,
            "object_fit": null,
            "grid_auto_columns": null,
            "margin": null,
            "display": null,
            "left": null
          }
        },
        "ec7a37ac8b84443eb128e8b5acb17c20": {
          "model_module": "@jupyter-widgets/controls",
          "model_name": "DescriptionStyleModel",
          "model_module_version": "1.5.0",
          "state": {
            "_view_name": "StyleView",
            "_model_name": "DescriptionStyleModel",
            "description_width": "",
            "_view_module": "@jupyter-widgets/base",
            "_model_module_version": "1.5.0",
            "_view_count": null,
            "_view_module_version": "1.2.0",
            "_model_module": "@jupyter-widgets/controls"
          }
        },
        "62caa908575441789f42525f880eef17": {
          "model_module": "@jupyter-widgets/base",
          "model_name": "LayoutModel",
          "model_module_version": "1.2.0",
          "state": {
            "_view_name": "LayoutView",
            "grid_template_rows": null,
            "right": null,
            "justify_content": null,
            "_view_module": "@jupyter-widgets/base",
            "overflow": null,
            "_model_module_version": "1.2.0",
            "_view_count": null,
            "flex_flow": null,
            "width": null,
            "min_width": null,
            "border": null,
            "align_items": null,
            "bottom": null,
            "_model_module": "@jupyter-widgets/base",
            "top": null,
            "grid_column": null,
            "overflow_y": null,
            "overflow_x": null,
            "grid_auto_flow": null,
            "grid_area": null,
            "grid_template_columns": null,
            "flex": null,
            "_model_name": "LayoutModel",
            "justify_items": null,
            "grid_row": null,
            "max_height": null,
            "align_content": null,
            "visibility": null,
            "align_self": null,
            "height": null,
            "min_height": null,
            "padding": null,
            "grid_auto_rows": null,
            "grid_gap": null,
            "max_width": null,
            "order": null,
            "_view_module_version": "1.2.0",
            "grid_template_areas": null,
            "object_position": null,
            "object_fit": null,
            "grid_auto_columns": null,
            "margin": null,
            "display": null,
            "left": null
          }
        },
        "5a3710a7b55140248b31958a372fe565": {
          "model_module": "@jupyter-widgets/controls",
          "model_name": "HBoxModel",
          "model_module_version": "1.5.0",
          "state": {
            "_view_name": "HBoxView",
            "_dom_classes": [],
            "_model_name": "HBoxModel",
            "_view_module": "@jupyter-widgets/controls",
            "_model_module_version": "1.5.0",
            "_view_count": null,
            "_view_module_version": "1.5.0",
            "box_style": "",
            "layout": "IPY_MODEL_164b47c773c94b76bc18d75da33ab85c",
            "_model_module": "@jupyter-widgets/controls",
            "children": [
              "IPY_MODEL_f0be81fb7c1945ee97c3135c9c5ebe24",
              "IPY_MODEL_0c2760aa7121430c9c13607d66e1ceb9",
              "IPY_MODEL_8d7f2e0e7e3246bc81bd330aaf1a0bd0"
            ]
          }
        },
        "164b47c773c94b76bc18d75da33ab85c": {
          "model_module": "@jupyter-widgets/base",
          "model_name": "LayoutModel",
          "model_module_version": "1.2.0",
          "state": {
            "_view_name": "LayoutView",
            "grid_template_rows": null,
            "right": null,
            "justify_content": null,
            "_view_module": "@jupyter-widgets/base",
            "overflow": null,
            "_model_module_version": "1.2.0",
            "_view_count": null,
            "flex_flow": null,
            "width": null,
            "min_width": null,
            "border": null,
            "align_items": null,
            "bottom": null,
            "_model_module": "@jupyter-widgets/base",
            "top": null,
            "grid_column": null,
            "overflow_y": null,
            "overflow_x": null,
            "grid_auto_flow": null,
            "grid_area": null,
            "grid_template_columns": null,
            "flex": null,
            "_model_name": "LayoutModel",
            "justify_items": null,
            "grid_row": null,
            "max_height": null,
            "align_content": null,
            "visibility": null,
            "align_self": null,
            "height": null,
            "min_height": null,
            "padding": null,
            "grid_auto_rows": null,
            "grid_gap": null,
            "max_width": null,
            "order": null,
            "_view_module_version": "1.2.0",
            "grid_template_areas": null,
            "object_position": null,
            "object_fit": null,
            "grid_auto_columns": null,
            "margin": null,
            "display": null,
            "left": null
          }
        },
        "f0be81fb7c1945ee97c3135c9c5ebe24": {
          "model_module": "@jupyter-widgets/controls",
          "model_name": "HTMLModel",
          "model_module_version": "1.5.0",
          "state": {
            "_view_name": "HTMLView",
            "style": "IPY_MODEL_0981ad6cc5b942499666fa3d5bbed48a",
            "_dom_classes": [],
            "description": "",
            "_model_name": "HTMLModel",
            "placeholder": "​",
            "_view_module": "@jupyter-widgets/controls",
            "_model_module_version": "1.5.0",
            "value": "Render HTML: 100%",
            "_view_count": null,
            "_view_module_version": "1.5.0",
            "description_tooltip": null,
            "_model_module": "@jupyter-widgets/controls",
            "layout": "IPY_MODEL_2c31e7b8ff0246dbb1b7a355328a1a35"
          }
        },
        "0c2760aa7121430c9c13607d66e1ceb9": {
          "model_module": "@jupyter-widgets/controls",
          "model_name": "FloatProgressModel",
          "model_module_version": "1.5.0",
          "state": {
            "_view_name": "ProgressView",
            "style": "IPY_MODEL_7fd687f8fd33427b80fc885b40b6da40",
            "_dom_classes": [],
            "description": "",
            "_model_name": "FloatProgressModel",
            "bar_style": "success",
            "max": 1,
            "_view_module": "@jupyter-widgets/controls",
            "_model_module_version": "1.5.0",
            "value": 1,
            "_view_count": null,
            "_view_module_version": "1.5.0",
            "orientation": "horizontal",
            "min": 0,
            "description_tooltip": null,
            "_model_module": "@jupyter-widgets/controls",
            "layout": "IPY_MODEL_03b56b42d8ba4725b6561b0821c86043"
          }
        },
        "8d7f2e0e7e3246bc81bd330aaf1a0bd0": {
          "model_module": "@jupyter-widgets/controls",
          "model_name": "HTMLModel",
          "model_module_version": "1.5.0",
          "state": {
            "_view_name": "HTMLView",
            "style": "IPY_MODEL_5bf6c8c84f1b4e7fbf515c51372fdb8a",
            "_dom_classes": [],
            "description": "",
            "_model_name": "HTMLModel",
            "placeholder": "​",
            "_view_module": "@jupyter-widgets/controls",
            "_model_module_version": "1.5.0",
            "value": " 1/1 [00:03&lt;00:00,  3.44s/it]",
            "_view_count": null,
            "_view_module_version": "1.5.0",
            "description_tooltip": null,
            "_model_module": "@jupyter-widgets/controls",
            "layout": "IPY_MODEL_17f3b59369e549d7907b277715c8b953"
          }
        },
        "0981ad6cc5b942499666fa3d5bbed48a": {
          "model_module": "@jupyter-widgets/controls",
          "model_name": "DescriptionStyleModel",
          "model_module_version": "1.5.0",
          "state": {
            "_view_name": "StyleView",
            "_model_name": "DescriptionStyleModel",
            "description_width": "",
            "_view_module": "@jupyter-widgets/base",
            "_model_module_version": "1.5.0",
            "_view_count": null,
            "_view_module_version": "1.2.0",
            "_model_module": "@jupyter-widgets/controls"
          }
        },
        "2c31e7b8ff0246dbb1b7a355328a1a35": {
          "model_module": "@jupyter-widgets/base",
          "model_name": "LayoutModel",
          "model_module_version": "1.2.0",
          "state": {
            "_view_name": "LayoutView",
            "grid_template_rows": null,
            "right": null,
            "justify_content": null,
            "_view_module": "@jupyter-widgets/base",
            "overflow": null,
            "_model_module_version": "1.2.0",
            "_view_count": null,
            "flex_flow": null,
            "width": null,
            "min_width": null,
            "border": null,
            "align_items": null,
            "bottom": null,
            "_model_module": "@jupyter-widgets/base",
            "top": null,
            "grid_column": null,
            "overflow_y": null,
            "overflow_x": null,
            "grid_auto_flow": null,
            "grid_area": null,
            "grid_template_columns": null,
            "flex": null,
            "_model_name": "LayoutModel",
            "justify_items": null,
            "grid_row": null,
            "max_height": null,
            "align_content": null,
            "visibility": null,
            "align_self": null,
            "height": null,
            "min_height": null,
            "padding": null,
            "grid_auto_rows": null,
            "grid_gap": null,
            "max_width": null,
            "order": null,
            "_view_module_version": "1.2.0",
            "grid_template_areas": null,
            "object_position": null,
            "object_fit": null,
            "grid_auto_columns": null,
            "margin": null,
            "display": null,
            "left": null
          }
        },
        "7fd687f8fd33427b80fc885b40b6da40": {
          "model_module": "@jupyter-widgets/controls",
          "model_name": "ProgressStyleModel",
          "model_module_version": "1.5.0",
          "state": {
            "_view_name": "StyleView",
            "_model_name": "ProgressStyleModel",
            "description_width": "",
            "_view_module": "@jupyter-widgets/base",
            "_model_module_version": "1.5.0",
            "_view_count": null,
            "_view_module_version": "1.2.0",
            "bar_color": null,
            "_model_module": "@jupyter-widgets/controls"
          }
        },
        "03b56b42d8ba4725b6561b0821c86043": {
          "model_module": "@jupyter-widgets/base",
          "model_name": "LayoutModel",
          "model_module_version": "1.2.0",
          "state": {
            "_view_name": "LayoutView",
            "grid_template_rows": null,
            "right": null,
            "justify_content": null,
            "_view_module": "@jupyter-widgets/base",
            "overflow": null,
            "_model_module_version": "1.2.0",
            "_view_count": null,
            "flex_flow": null,
            "width": null,
            "min_width": null,
            "border": null,
            "align_items": null,
            "bottom": null,
            "_model_module": "@jupyter-widgets/base",
            "top": null,
            "grid_column": null,
            "overflow_y": null,
            "overflow_x": null,
            "grid_auto_flow": null,
            "grid_area": null,
            "grid_template_columns": null,
            "flex": null,
            "_model_name": "LayoutModel",
            "justify_items": null,
            "grid_row": null,
            "max_height": null,
            "align_content": null,
            "visibility": null,
            "align_self": null,
            "height": null,
            "min_height": null,
            "padding": null,
            "grid_auto_rows": null,
            "grid_gap": null,
            "max_width": null,
            "order": null,
            "_view_module_version": "1.2.0",
            "grid_template_areas": null,
            "object_position": null,
            "object_fit": null,
            "grid_auto_columns": null,
            "margin": null,
            "display": null,
            "left": null
          }
        },
        "5bf6c8c84f1b4e7fbf515c51372fdb8a": {
          "model_module": "@jupyter-widgets/controls",
          "model_name": "DescriptionStyleModel",
          "model_module_version": "1.5.0",
          "state": {
            "_view_name": "StyleView",
            "_model_name": "DescriptionStyleModel",
            "description_width": "",
            "_view_module": "@jupyter-widgets/base",
            "_model_module_version": "1.5.0",
            "_view_count": null,
            "_view_module_version": "1.2.0",
            "_model_module": "@jupyter-widgets/controls"
          }
        },
        "17f3b59369e549d7907b277715c8b953": {
          "model_module": "@jupyter-widgets/base",
          "model_name": "LayoutModel",
          "model_module_version": "1.2.0",
          "state": {
            "_view_name": "LayoutView",
            "grid_template_rows": null,
            "right": null,
            "justify_content": null,
            "_view_module": "@jupyter-widgets/base",
            "overflow": null,
            "_model_module_version": "1.2.0",
            "_view_count": null,
            "flex_flow": null,
            "width": null,
            "min_width": null,
            "border": null,
            "align_items": null,
            "bottom": null,
            "_model_module": "@jupyter-widgets/base",
            "top": null,
            "grid_column": null,
            "overflow_y": null,
            "overflow_x": null,
            "grid_auto_flow": null,
            "grid_area": null,
            "grid_template_columns": null,
            "flex": null,
            "_model_name": "LayoutModel",
            "justify_items": null,
            "grid_row": null,
            "max_height": null,
            "align_content": null,
            "visibility": null,
            "align_self": null,
            "height": null,
            "min_height": null,
            "padding": null,
            "grid_auto_rows": null,
            "grid_gap": null,
            "max_width": null,
            "order": null,
            "_view_module_version": "1.2.0",
            "grid_template_areas": null,
            "object_position": null,
            "object_fit": null,
            "grid_auto_columns": null,
            "margin": null,
            "display": null,
            "left": null
          }
        },
        "94765f87e41c4aa8b76d451116425d80": {
          "model_module": "@jupyter-widgets/controls",
          "model_name": "HBoxModel",
          "model_module_version": "1.5.0",
          "state": {
            "_view_name": "HBoxView",
            "_dom_classes": [],
            "_model_name": "HBoxModel",
            "_view_module": "@jupyter-widgets/controls",
            "_model_module_version": "1.5.0",
            "_view_count": null,
            "_view_module_version": "1.5.0",
            "box_style": "",
            "layout": "IPY_MODEL_ca7e29ab51fc472297aacebb24404e62",
            "_model_module": "@jupyter-widgets/controls",
            "children": [
              "IPY_MODEL_ffe7cc22ddce49439b641d44da4f14c5",
              "IPY_MODEL_9e0b2a371a214e989b6061cfded95444",
              "IPY_MODEL_639e67f281444890849163478e7b0271"
            ]
          }
        },
        "ca7e29ab51fc472297aacebb24404e62": {
          "model_module": "@jupyter-widgets/base",
          "model_name": "LayoutModel",
          "model_module_version": "1.2.0",
          "state": {
            "_view_name": "LayoutView",
            "grid_template_rows": null,
            "right": null,
            "justify_content": null,
            "_view_module": "@jupyter-widgets/base",
            "overflow": null,
            "_model_module_version": "1.2.0",
            "_view_count": null,
            "flex_flow": null,
            "width": null,
            "min_width": null,
            "border": null,
            "align_items": null,
            "bottom": null,
            "_model_module": "@jupyter-widgets/base",
            "top": null,
            "grid_column": null,
            "overflow_y": null,
            "overflow_x": null,
            "grid_auto_flow": null,
            "grid_area": null,
            "grid_template_columns": null,
            "flex": null,
            "_model_name": "LayoutModel",
            "justify_items": null,
            "grid_row": null,
            "max_height": null,
            "align_content": null,
            "visibility": null,
            "align_self": null,
            "height": null,
            "min_height": null,
            "padding": null,
            "grid_auto_rows": null,
            "grid_gap": null,
            "max_width": null,
            "order": null,
            "_view_module_version": "1.2.0",
            "grid_template_areas": null,
            "object_position": null,
            "object_fit": null,
            "grid_auto_columns": null,
            "margin": null,
            "display": null,
            "left": null
          }
        },
        "ffe7cc22ddce49439b641d44da4f14c5": {
          "model_module": "@jupyter-widgets/controls",
          "model_name": "HTMLModel",
          "model_module_version": "1.5.0",
          "state": {
            "_view_name": "HTMLView",
            "style": "IPY_MODEL_d35ebfd6fd694a42b847834aa77bc9e6",
            "_dom_classes": [],
            "description": "",
            "_model_name": "HTMLModel",
            "placeholder": "​",
            "_view_module": "@jupyter-widgets/controls",
            "_model_module_version": "1.5.0",
            "value": "Summarize dataset: 100%",
            "_view_count": null,
            "_view_module_version": "1.5.0",
            "description_tooltip": null,
            "_model_module": "@jupyter-widgets/controls",
            "layout": "IPY_MODEL_56311d9bcea14af9a59b0e0472d0352b"
          }
        },
        "9e0b2a371a214e989b6061cfded95444": {
          "model_module": "@jupyter-widgets/controls",
          "model_name": "FloatProgressModel",
          "model_module_version": "1.5.0",
          "state": {
            "_view_name": "ProgressView",
            "style": "IPY_MODEL_f01cc481835b480586ae784785b5c1f7",
            "_dom_classes": [],
            "description": "",
            "_model_name": "FloatProgressModel",
            "bar_style": "success",
            "max": 35,
            "_view_module": "@jupyter-widgets/controls",
            "_model_module_version": "1.5.0",
            "value": 35,
            "_view_count": null,
            "_view_module_version": "1.5.0",
            "orientation": "horizontal",
            "min": 0,
            "description_tooltip": null,
            "_model_module": "@jupyter-widgets/controls",
            "layout": "IPY_MODEL_f9fc36e841ff471aa1017c777187412b"
          }
        },
        "639e67f281444890849163478e7b0271": {
          "model_module": "@jupyter-widgets/controls",
          "model_name": "HTMLModel",
          "model_module_version": "1.5.0",
          "state": {
            "_view_name": "HTMLView",
            "style": "IPY_MODEL_289324c3e0e34c149fe3ccd1747a63b9",
            "_dom_classes": [],
            "description": "",
            "_model_name": "HTMLModel",
            "placeholder": "​",
            "_view_module": "@jupyter-widgets/controls",
            "_model_module_version": "1.5.0",
            "value": " 35/35 [00:20&lt;00:00,  1.30s/it, Completed]",
            "_view_count": null,
            "_view_module_version": "1.5.0",
            "description_tooltip": null,
            "_model_module": "@jupyter-widgets/controls",
            "layout": "IPY_MODEL_e864d8cfe0114deca5573b19d68e5950"
          }
        },
        "d35ebfd6fd694a42b847834aa77bc9e6": {
          "model_module": "@jupyter-widgets/controls",
          "model_name": "DescriptionStyleModel",
          "model_module_version": "1.5.0",
          "state": {
            "_view_name": "StyleView",
            "_model_name": "DescriptionStyleModel",
            "description_width": "",
            "_view_module": "@jupyter-widgets/base",
            "_model_module_version": "1.5.0",
            "_view_count": null,
            "_view_module_version": "1.2.0",
            "_model_module": "@jupyter-widgets/controls"
          }
        },
        "56311d9bcea14af9a59b0e0472d0352b": {
          "model_module": "@jupyter-widgets/base",
          "model_name": "LayoutModel",
          "model_module_version": "1.2.0",
          "state": {
            "_view_name": "LayoutView",
            "grid_template_rows": null,
            "right": null,
            "justify_content": null,
            "_view_module": "@jupyter-widgets/base",
            "overflow": null,
            "_model_module_version": "1.2.0",
            "_view_count": null,
            "flex_flow": null,
            "width": null,
            "min_width": null,
            "border": null,
            "align_items": null,
            "bottom": null,
            "_model_module": "@jupyter-widgets/base",
            "top": null,
            "grid_column": null,
            "overflow_y": null,
            "overflow_x": null,
            "grid_auto_flow": null,
            "grid_area": null,
            "grid_template_columns": null,
            "flex": null,
            "_model_name": "LayoutModel",
            "justify_items": null,
            "grid_row": null,
            "max_height": null,
            "align_content": null,
            "visibility": null,
            "align_self": null,
            "height": null,
            "min_height": null,
            "padding": null,
            "grid_auto_rows": null,
            "grid_gap": null,
            "max_width": null,
            "order": null,
            "_view_module_version": "1.2.0",
            "grid_template_areas": null,
            "object_position": null,
            "object_fit": null,
            "grid_auto_columns": null,
            "margin": null,
            "display": null,
            "left": null
          }
        },
        "f01cc481835b480586ae784785b5c1f7": {
          "model_module": "@jupyter-widgets/controls",
          "model_name": "ProgressStyleModel",
          "model_module_version": "1.5.0",
          "state": {
            "_view_name": "StyleView",
            "_model_name": "ProgressStyleModel",
            "description_width": "",
            "_view_module": "@jupyter-widgets/base",
            "_model_module_version": "1.5.0",
            "_view_count": null,
            "_view_module_version": "1.2.0",
            "bar_color": null,
            "_model_module": "@jupyter-widgets/controls"
          }
        },
        "f9fc36e841ff471aa1017c777187412b": {
          "model_module": "@jupyter-widgets/base",
          "model_name": "LayoutModel",
          "model_module_version": "1.2.0",
          "state": {
            "_view_name": "LayoutView",
            "grid_template_rows": null,
            "right": null,
            "justify_content": null,
            "_view_module": "@jupyter-widgets/base",
            "overflow": null,
            "_model_module_version": "1.2.0",
            "_view_count": null,
            "flex_flow": null,
            "width": null,
            "min_width": null,
            "border": null,
            "align_items": null,
            "bottom": null,
            "_model_module": "@jupyter-widgets/base",
            "top": null,
            "grid_column": null,
            "overflow_y": null,
            "overflow_x": null,
            "grid_auto_flow": null,
            "grid_area": null,
            "grid_template_columns": null,
            "flex": null,
            "_model_name": "LayoutModel",
            "justify_items": null,
            "grid_row": null,
            "max_height": null,
            "align_content": null,
            "visibility": null,
            "align_self": null,
            "height": null,
            "min_height": null,
            "padding": null,
            "grid_auto_rows": null,
            "grid_gap": null,
            "max_width": null,
            "order": null,
            "_view_module_version": "1.2.0",
            "grid_template_areas": null,
            "object_position": null,
            "object_fit": null,
            "grid_auto_columns": null,
            "margin": null,
            "display": null,
            "left": null
          }
        },
        "289324c3e0e34c149fe3ccd1747a63b9": {
          "model_module": "@jupyter-widgets/controls",
          "model_name": "DescriptionStyleModel",
          "model_module_version": "1.5.0",
          "state": {
            "_view_name": "StyleView",
            "_model_name": "DescriptionStyleModel",
            "description_width": "",
            "_view_module": "@jupyter-widgets/base",
            "_model_module_version": "1.5.0",
            "_view_count": null,
            "_view_module_version": "1.2.0",
            "_model_module": "@jupyter-widgets/controls"
          }
        },
        "e864d8cfe0114deca5573b19d68e5950": {
          "model_module": "@jupyter-widgets/base",
          "model_name": "LayoutModel",
          "model_module_version": "1.2.0",
          "state": {
            "_view_name": "LayoutView",
            "grid_template_rows": null,
            "right": null,
            "justify_content": null,
            "_view_module": "@jupyter-widgets/base",
            "overflow": null,
            "_model_module_version": "1.2.0",
            "_view_count": null,
            "flex_flow": null,
            "width": null,
            "min_width": null,
            "border": null,
            "align_items": null,
            "bottom": null,
            "_model_module": "@jupyter-widgets/base",
            "top": null,
            "grid_column": null,
            "overflow_y": null,
            "overflow_x": null,
            "grid_auto_flow": null,
            "grid_area": null,
            "grid_template_columns": null,
            "flex": null,
            "_model_name": "LayoutModel",
            "justify_items": null,
            "grid_row": null,
            "max_height": null,
            "align_content": null,
            "visibility": null,
            "align_self": null,
            "height": null,
            "min_height": null,
            "padding": null,
            "grid_auto_rows": null,
            "grid_gap": null,
            "max_width": null,
            "order": null,
            "_view_module_version": "1.2.0",
            "grid_template_areas": null,
            "object_position": null,
            "object_fit": null,
            "grid_auto_columns": null,
            "margin": null,
            "display": null,
            "left": null
          }
        },
        "608de91ffbc7424ebe5443693c63dd75": {
          "model_module": "@jupyter-widgets/controls",
          "model_name": "HBoxModel",
          "model_module_version": "1.5.0",
          "state": {
            "_view_name": "HBoxView",
            "_dom_classes": [],
            "_model_name": "HBoxModel",
            "_view_module": "@jupyter-widgets/controls",
            "_model_module_version": "1.5.0",
            "_view_count": null,
            "_view_module_version": "1.5.0",
            "box_style": "",
            "layout": "IPY_MODEL_fbd6af40007444e3890f947b7605768a",
            "_model_module": "@jupyter-widgets/controls",
            "children": [
              "IPY_MODEL_256a8098a1414dc091e09e6613568b89",
              "IPY_MODEL_6fbeac4506074a809f8792092a0d6ceb",
              "IPY_MODEL_858823a6ad214743bbdcc6cd91caadbf"
            ]
          }
        },
        "fbd6af40007444e3890f947b7605768a": {
          "model_module": "@jupyter-widgets/base",
          "model_name": "LayoutModel",
          "model_module_version": "1.2.0",
          "state": {
            "_view_name": "LayoutView",
            "grid_template_rows": null,
            "right": null,
            "justify_content": null,
            "_view_module": "@jupyter-widgets/base",
            "overflow": null,
            "_model_module_version": "1.2.0",
            "_view_count": null,
            "flex_flow": null,
            "width": null,
            "min_width": null,
            "border": null,
            "align_items": null,
            "bottom": null,
            "_model_module": "@jupyter-widgets/base",
            "top": null,
            "grid_column": null,
            "overflow_y": null,
            "overflow_x": null,
            "grid_auto_flow": null,
            "grid_area": null,
            "grid_template_columns": null,
            "flex": null,
            "_model_name": "LayoutModel",
            "justify_items": null,
            "grid_row": null,
            "max_height": null,
            "align_content": null,
            "visibility": null,
            "align_self": null,
            "height": null,
            "min_height": null,
            "padding": null,
            "grid_auto_rows": null,
            "grid_gap": null,
            "max_width": null,
            "order": null,
            "_view_module_version": "1.2.0",
            "grid_template_areas": null,
            "object_position": null,
            "object_fit": null,
            "grid_auto_columns": null,
            "margin": null,
            "display": null,
            "left": null
          }
        },
        "256a8098a1414dc091e09e6613568b89": {
          "model_module": "@jupyter-widgets/controls",
          "model_name": "HTMLModel",
          "model_module_version": "1.5.0",
          "state": {
            "_view_name": "HTMLView",
            "style": "IPY_MODEL_ec67ddbe3db4419bbef35136bcbd68bc",
            "_dom_classes": [],
            "description": "",
            "_model_name": "HTMLModel",
            "placeholder": "​",
            "_view_module": "@jupyter-widgets/controls",
            "_model_module_version": "1.5.0",
            "value": "Generate report structure: 100%",
            "_view_count": null,
            "_view_module_version": "1.5.0",
            "description_tooltip": null,
            "_model_module": "@jupyter-widgets/controls",
            "layout": "IPY_MODEL_3f7611b704134ffba3ccbd0c589b52a5"
          }
        },
        "6fbeac4506074a809f8792092a0d6ceb": {
          "model_module": "@jupyter-widgets/controls",
          "model_name": "FloatProgressModel",
          "model_module_version": "1.5.0",
          "state": {
            "_view_name": "ProgressView",
            "style": "IPY_MODEL_fd2264a824ee432b9ce6b60f4cf311e7",
            "_dom_classes": [],
            "description": "",
            "_model_name": "FloatProgressModel",
            "bar_style": "success",
            "max": 1,
            "_view_module": "@jupyter-widgets/controls",
            "_model_module_version": "1.5.0",
            "value": 1,
            "_view_count": null,
            "_view_module_version": "1.5.0",
            "orientation": "horizontal",
            "min": 0,
            "description_tooltip": null,
            "_model_module": "@jupyter-widgets/controls",
            "layout": "IPY_MODEL_148ca948b7a94dd7843bb7ab6fc31112"
          }
        },
        "858823a6ad214743bbdcc6cd91caadbf": {
          "model_module": "@jupyter-widgets/controls",
          "model_name": "HTMLModel",
          "model_module_version": "1.5.0",
          "state": {
            "_view_name": "HTMLView",
            "style": "IPY_MODEL_11d914573d574b3e9a1c41181007c83b",
            "_dom_classes": [],
            "description": "",
            "_model_name": "HTMLModel",
            "placeholder": "​",
            "_view_module": "@jupyter-widgets/controls",
            "_model_module_version": "1.5.0",
            "value": " 1/1 [00:12&lt;00:00, 12.12s/it]",
            "_view_count": null,
            "_view_module_version": "1.5.0",
            "description_tooltip": null,
            "_model_module": "@jupyter-widgets/controls",
            "layout": "IPY_MODEL_c67ce3d38c6940b8b52865c8b6e88c0d"
          }
        },
        "ec67ddbe3db4419bbef35136bcbd68bc": {
          "model_module": "@jupyter-widgets/controls",
          "model_name": "DescriptionStyleModel",
          "model_module_version": "1.5.0",
          "state": {
            "_view_name": "StyleView",
            "_model_name": "DescriptionStyleModel",
            "description_width": "",
            "_view_module": "@jupyter-widgets/base",
            "_model_module_version": "1.5.0",
            "_view_count": null,
            "_view_module_version": "1.2.0",
            "_model_module": "@jupyter-widgets/controls"
          }
        },
        "3f7611b704134ffba3ccbd0c589b52a5": {
          "model_module": "@jupyter-widgets/base",
          "model_name": "LayoutModel",
          "model_module_version": "1.2.0",
          "state": {
            "_view_name": "LayoutView",
            "grid_template_rows": null,
            "right": null,
            "justify_content": null,
            "_view_module": "@jupyter-widgets/base",
            "overflow": null,
            "_model_module_version": "1.2.0",
            "_view_count": null,
            "flex_flow": null,
            "width": null,
            "min_width": null,
            "border": null,
            "align_items": null,
            "bottom": null,
            "_model_module": "@jupyter-widgets/base",
            "top": null,
            "grid_column": null,
            "overflow_y": null,
            "overflow_x": null,
            "grid_auto_flow": null,
            "grid_area": null,
            "grid_template_columns": null,
            "flex": null,
            "_model_name": "LayoutModel",
            "justify_items": null,
            "grid_row": null,
            "max_height": null,
            "align_content": null,
            "visibility": null,
            "align_self": null,
            "height": null,
            "min_height": null,
            "padding": null,
            "grid_auto_rows": null,
            "grid_gap": null,
            "max_width": null,
            "order": null,
            "_view_module_version": "1.2.0",
            "grid_template_areas": null,
            "object_position": null,
            "object_fit": null,
            "grid_auto_columns": null,
            "margin": null,
            "display": null,
            "left": null
          }
        },
        "fd2264a824ee432b9ce6b60f4cf311e7": {
          "model_module": "@jupyter-widgets/controls",
          "model_name": "ProgressStyleModel",
          "model_module_version": "1.5.0",
          "state": {
            "_view_name": "StyleView",
            "_model_name": "ProgressStyleModel",
            "description_width": "",
            "_view_module": "@jupyter-widgets/base",
            "_model_module_version": "1.5.0",
            "_view_count": null,
            "_view_module_version": "1.2.0",
            "bar_color": null,
            "_model_module": "@jupyter-widgets/controls"
          }
        },
        "148ca948b7a94dd7843bb7ab6fc31112": {
          "model_module": "@jupyter-widgets/base",
          "model_name": "LayoutModel",
          "model_module_version": "1.2.0",
          "state": {
            "_view_name": "LayoutView",
            "grid_template_rows": null,
            "right": null,
            "justify_content": null,
            "_view_module": "@jupyter-widgets/base",
            "overflow": null,
            "_model_module_version": "1.2.0",
            "_view_count": null,
            "flex_flow": null,
            "width": null,
            "min_width": null,
            "border": null,
            "align_items": null,
            "bottom": null,
            "_model_module": "@jupyter-widgets/base",
            "top": null,
            "grid_column": null,
            "overflow_y": null,
            "overflow_x": null,
            "grid_auto_flow": null,
            "grid_area": null,
            "grid_template_columns": null,
            "flex": null,
            "_model_name": "LayoutModel",
            "justify_items": null,
            "grid_row": null,
            "max_height": null,
            "align_content": null,
            "visibility": null,
            "align_self": null,
            "height": null,
            "min_height": null,
            "padding": null,
            "grid_auto_rows": null,
            "grid_gap": null,
            "max_width": null,
            "order": null,
            "_view_module_version": "1.2.0",
            "grid_template_areas": null,
            "object_position": null,
            "object_fit": null,
            "grid_auto_columns": null,
            "margin": null,
            "display": null,
            "left": null
          }
        },
        "11d914573d574b3e9a1c41181007c83b": {
          "model_module": "@jupyter-widgets/controls",
          "model_name": "DescriptionStyleModel",
          "model_module_version": "1.5.0",
          "state": {
            "_view_name": "StyleView",
            "_model_name": "DescriptionStyleModel",
            "description_width": "",
            "_view_module": "@jupyter-widgets/base",
            "_model_module_version": "1.5.0",
            "_view_count": null,
            "_view_module_version": "1.2.0",
            "_model_module": "@jupyter-widgets/controls"
          }
        },
        "c67ce3d38c6940b8b52865c8b6e88c0d": {
          "model_module": "@jupyter-widgets/base",
          "model_name": "LayoutModel",
          "model_module_version": "1.2.0",
          "state": {
            "_view_name": "LayoutView",
            "grid_template_rows": null,
            "right": null,
            "justify_content": null,
            "_view_module": "@jupyter-widgets/base",
            "overflow": null,
            "_model_module_version": "1.2.0",
            "_view_count": null,
            "flex_flow": null,
            "width": null,
            "min_width": null,
            "border": null,
            "align_items": null,
            "bottom": null,
            "_model_module": "@jupyter-widgets/base",
            "top": null,
            "grid_column": null,
            "overflow_y": null,
            "overflow_x": null,
            "grid_auto_flow": null,
            "grid_area": null,
            "grid_template_columns": null,
            "flex": null,
            "_model_name": "LayoutModel",
            "justify_items": null,
            "grid_row": null,
            "max_height": null,
            "align_content": null,
            "visibility": null,
            "align_self": null,
            "height": null,
            "min_height": null,
            "padding": null,
            "grid_auto_rows": null,
            "grid_gap": null,
            "max_width": null,
            "order": null,
            "_view_module_version": "1.2.0",
            "grid_template_areas": null,
            "object_position": null,
            "object_fit": null,
            "grid_auto_columns": null,
            "margin": null,
            "display": null,
            "left": null
          }
        },
        "6bc28734544d4e519c43c4f7713cb87e": {
          "model_module": "@jupyter-widgets/controls",
          "model_name": "HBoxModel",
          "model_module_version": "1.5.0",
          "state": {
            "_view_name": "HBoxView",
            "_dom_classes": [],
            "_model_name": "HBoxModel",
            "_view_module": "@jupyter-widgets/controls",
            "_model_module_version": "1.5.0",
            "_view_count": null,
            "_view_module_version": "1.5.0",
            "box_style": "",
            "layout": "IPY_MODEL_fda5bde64ca84cea9b83367d6a046e3d",
            "_model_module": "@jupyter-widgets/controls",
            "children": [
              "IPY_MODEL_28078eee023d49bfb416563674b1d4c1",
              "IPY_MODEL_663008d276a144d2af910117b690c1c2",
              "IPY_MODEL_059eb5ba483c44f9b57cdf276d1b54ca"
            ]
          }
        },
        "fda5bde64ca84cea9b83367d6a046e3d": {
          "model_module": "@jupyter-widgets/base",
          "model_name": "LayoutModel",
          "model_module_version": "1.2.0",
          "state": {
            "_view_name": "LayoutView",
            "grid_template_rows": null,
            "right": null,
            "justify_content": null,
            "_view_module": "@jupyter-widgets/base",
            "overflow": null,
            "_model_module_version": "1.2.0",
            "_view_count": null,
            "flex_flow": null,
            "width": null,
            "min_width": null,
            "border": null,
            "align_items": null,
            "bottom": null,
            "_model_module": "@jupyter-widgets/base",
            "top": null,
            "grid_column": null,
            "overflow_y": null,
            "overflow_x": null,
            "grid_auto_flow": null,
            "grid_area": null,
            "grid_template_columns": null,
            "flex": null,
            "_model_name": "LayoutModel",
            "justify_items": null,
            "grid_row": null,
            "max_height": null,
            "align_content": null,
            "visibility": null,
            "align_self": null,
            "height": null,
            "min_height": null,
            "padding": null,
            "grid_auto_rows": null,
            "grid_gap": null,
            "max_width": null,
            "order": null,
            "_view_module_version": "1.2.0",
            "grid_template_areas": null,
            "object_position": null,
            "object_fit": null,
            "grid_auto_columns": null,
            "margin": null,
            "display": null,
            "left": null
          }
        },
        "28078eee023d49bfb416563674b1d4c1": {
          "model_module": "@jupyter-widgets/controls",
          "model_name": "HTMLModel",
          "model_module_version": "1.5.0",
          "state": {
            "_view_name": "HTMLView",
            "style": "IPY_MODEL_fe11d1a258724797a2c01810268791f6",
            "_dom_classes": [],
            "description": "",
            "_model_name": "HTMLModel",
            "placeholder": "​",
            "_view_module": "@jupyter-widgets/controls",
            "_model_module_version": "1.5.0",
            "value": "Render HTML: 100%",
            "_view_count": null,
            "_view_module_version": "1.5.0",
            "description_tooltip": null,
            "_model_module": "@jupyter-widgets/controls",
            "layout": "IPY_MODEL_0bde4435c175491d84e16ea80f973dc3"
          }
        },
        "663008d276a144d2af910117b690c1c2": {
          "model_module": "@jupyter-widgets/controls",
          "model_name": "FloatProgressModel",
          "model_module_version": "1.5.0",
          "state": {
            "_view_name": "ProgressView",
            "style": "IPY_MODEL_9ee085c129af47b8a6ae34e1d3cc44ca",
            "_dom_classes": [],
            "description": "",
            "_model_name": "FloatProgressModel",
            "bar_style": "success",
            "max": 1,
            "_view_module": "@jupyter-widgets/controls",
            "_model_module_version": "1.5.0",
            "value": 1,
            "_view_count": null,
            "_view_module_version": "1.5.0",
            "orientation": "horizontal",
            "min": 0,
            "description_tooltip": null,
            "_model_module": "@jupyter-widgets/controls",
            "layout": "IPY_MODEL_16f932ddd5754f598b823acebf627991"
          }
        },
        "059eb5ba483c44f9b57cdf276d1b54ca": {
          "model_module": "@jupyter-widgets/controls",
          "model_name": "HTMLModel",
          "model_module_version": "1.5.0",
          "state": {
            "_view_name": "HTMLView",
            "style": "IPY_MODEL_3c0e981f5de54374b9a31f8588d8fa62",
            "_dom_classes": [],
            "description": "",
            "_model_name": "HTMLModel",
            "placeholder": "​",
            "_view_module": "@jupyter-widgets/controls",
            "_model_module_version": "1.5.0",
            "value": " 1/1 [00:03&lt;00:00,  3.40s/it]",
            "_view_count": null,
            "_view_module_version": "1.5.0",
            "description_tooltip": null,
            "_model_module": "@jupyter-widgets/controls",
            "layout": "IPY_MODEL_8317606c0af2419c877ce7ef12c13d16"
          }
        },
        "fe11d1a258724797a2c01810268791f6": {
          "model_module": "@jupyter-widgets/controls",
          "model_name": "DescriptionStyleModel",
          "model_module_version": "1.5.0",
          "state": {
            "_view_name": "StyleView",
            "_model_name": "DescriptionStyleModel",
            "description_width": "",
            "_view_module": "@jupyter-widgets/base",
            "_model_module_version": "1.5.0",
            "_view_count": null,
            "_view_module_version": "1.2.0",
            "_model_module": "@jupyter-widgets/controls"
          }
        },
        "0bde4435c175491d84e16ea80f973dc3": {
          "model_module": "@jupyter-widgets/base",
          "model_name": "LayoutModel",
          "model_module_version": "1.2.0",
          "state": {
            "_view_name": "LayoutView",
            "grid_template_rows": null,
            "right": null,
            "justify_content": null,
            "_view_module": "@jupyter-widgets/base",
            "overflow": null,
            "_model_module_version": "1.2.0",
            "_view_count": null,
            "flex_flow": null,
            "width": null,
            "min_width": null,
            "border": null,
            "align_items": null,
            "bottom": null,
            "_model_module": "@jupyter-widgets/base",
            "top": null,
            "grid_column": null,
            "overflow_y": null,
            "overflow_x": null,
            "grid_auto_flow": null,
            "grid_area": null,
            "grid_template_columns": null,
            "flex": null,
            "_model_name": "LayoutModel",
            "justify_items": null,
            "grid_row": null,
            "max_height": null,
            "align_content": null,
            "visibility": null,
            "align_self": null,
            "height": null,
            "min_height": null,
            "padding": null,
            "grid_auto_rows": null,
            "grid_gap": null,
            "max_width": null,
            "order": null,
            "_view_module_version": "1.2.0",
            "grid_template_areas": null,
            "object_position": null,
            "object_fit": null,
            "grid_auto_columns": null,
            "margin": null,
            "display": null,
            "left": null
          }
        },
        "9ee085c129af47b8a6ae34e1d3cc44ca": {
          "model_module": "@jupyter-widgets/controls",
          "model_name": "ProgressStyleModel",
          "model_module_version": "1.5.0",
          "state": {
            "_view_name": "StyleView",
            "_model_name": "ProgressStyleModel",
            "description_width": "",
            "_view_module": "@jupyter-widgets/base",
            "_model_module_version": "1.5.0",
            "_view_count": null,
            "_view_module_version": "1.2.0",
            "bar_color": null,
            "_model_module": "@jupyter-widgets/controls"
          }
        },
        "16f932ddd5754f598b823acebf627991": {
          "model_module": "@jupyter-widgets/base",
          "model_name": "LayoutModel",
          "model_module_version": "1.2.0",
          "state": {
            "_view_name": "LayoutView",
            "grid_template_rows": null,
            "right": null,
            "justify_content": null,
            "_view_module": "@jupyter-widgets/base",
            "overflow": null,
            "_model_module_version": "1.2.0",
            "_view_count": null,
            "flex_flow": null,
            "width": null,
            "min_width": null,
            "border": null,
            "align_items": null,
            "bottom": null,
            "_model_module": "@jupyter-widgets/base",
            "top": null,
            "grid_column": null,
            "overflow_y": null,
            "overflow_x": null,
            "grid_auto_flow": null,
            "grid_area": null,
            "grid_template_columns": null,
            "flex": null,
            "_model_name": "LayoutModel",
            "justify_items": null,
            "grid_row": null,
            "max_height": null,
            "align_content": null,
            "visibility": null,
            "align_self": null,
            "height": null,
            "min_height": null,
            "padding": null,
            "grid_auto_rows": null,
            "grid_gap": null,
            "max_width": null,
            "order": null,
            "_view_module_version": "1.2.0",
            "grid_template_areas": null,
            "object_position": null,
            "object_fit": null,
            "grid_auto_columns": null,
            "margin": null,
            "display": null,
            "left": null
          }
        },
        "3c0e981f5de54374b9a31f8588d8fa62": {
          "model_module": "@jupyter-widgets/controls",
          "model_name": "DescriptionStyleModel",
          "model_module_version": "1.5.0",
          "state": {
            "_view_name": "StyleView",
            "_model_name": "DescriptionStyleModel",
            "description_width": "",
            "_view_module": "@jupyter-widgets/base",
            "_model_module_version": "1.5.0",
            "_view_count": null,
            "_view_module_version": "1.2.0",
            "_model_module": "@jupyter-widgets/controls"
          }
        },
        "8317606c0af2419c877ce7ef12c13d16": {
          "model_module": "@jupyter-widgets/base",
          "model_name": "LayoutModel",
          "model_module_version": "1.2.0",
          "state": {
            "_view_name": "LayoutView",
            "grid_template_rows": null,
            "right": null,
            "justify_content": null,
            "_view_module": "@jupyter-widgets/base",
            "overflow": null,
            "_model_module_version": "1.2.0",
            "_view_count": null,
            "flex_flow": null,
            "width": null,
            "min_width": null,
            "border": null,
            "align_items": null,
            "bottom": null,
            "_model_module": "@jupyter-widgets/base",
            "top": null,
            "grid_column": null,
            "overflow_y": null,
            "overflow_x": null,
            "grid_auto_flow": null,
            "grid_area": null,
            "grid_template_columns": null,
            "flex": null,
            "_model_name": "LayoutModel",
            "justify_items": null,
            "grid_row": null,
            "max_height": null,
            "align_content": null,
            "visibility": null,
            "align_self": null,
            "height": null,
            "min_height": null,
            "padding": null,
            "grid_auto_rows": null,
            "grid_gap": null,
            "max_width": null,
            "order": null,
            "_view_module_version": "1.2.0",
            "grid_template_areas": null,
            "object_position": null,
            "object_fit": null,
            "grid_auto_columns": null,
            "margin": null,
            "display": null,
            "left": null
          }
        },
        "0b587b091010414e96144068e4bb9785": {
          "model_module": "@jupyter-widgets/controls",
          "model_name": "HBoxModel",
          "model_module_version": "1.5.0",
          "state": {
            "_view_name": "HBoxView",
            "_dom_classes": [],
            "_model_name": "HBoxModel",
            "_view_module": "@jupyter-widgets/controls",
            "_model_module_version": "1.5.0",
            "_view_count": null,
            "_view_module_version": "1.5.0",
            "box_style": "",
            "layout": "IPY_MODEL_56f9ca3fa2b145789da1c480267a1840",
            "_model_module": "@jupyter-widgets/controls",
            "children": [
              "IPY_MODEL_4169c5dc3f3b427983eb4b63b38c2610",
              "IPY_MODEL_a07dc047e7f14c55a4922e660a56f074",
              "IPY_MODEL_193c9528c8a44ac3b8cc12d1dd86d77b"
            ]
          }
        },
        "56f9ca3fa2b145789da1c480267a1840": {
          "model_module": "@jupyter-widgets/base",
          "model_name": "LayoutModel",
          "model_module_version": "1.2.0",
          "state": {
            "_view_name": "LayoutView",
            "grid_template_rows": null,
            "right": null,
            "justify_content": null,
            "_view_module": "@jupyter-widgets/base",
            "overflow": null,
            "_model_module_version": "1.2.0",
            "_view_count": null,
            "flex_flow": null,
            "width": null,
            "min_width": null,
            "border": null,
            "align_items": null,
            "bottom": null,
            "_model_module": "@jupyter-widgets/base",
            "top": null,
            "grid_column": null,
            "overflow_y": null,
            "overflow_x": null,
            "grid_auto_flow": null,
            "grid_area": null,
            "grid_template_columns": null,
            "flex": null,
            "_model_name": "LayoutModel",
            "justify_items": null,
            "grid_row": null,
            "max_height": null,
            "align_content": null,
            "visibility": null,
            "align_self": null,
            "height": null,
            "min_height": null,
            "padding": null,
            "grid_auto_rows": null,
            "grid_gap": null,
            "max_width": null,
            "order": null,
            "_view_module_version": "1.2.0",
            "grid_template_areas": null,
            "object_position": null,
            "object_fit": null,
            "grid_auto_columns": null,
            "margin": null,
            "display": null,
            "left": null
          }
        },
        "4169c5dc3f3b427983eb4b63b38c2610": {
          "model_module": "@jupyter-widgets/controls",
          "model_name": "HTMLModel",
          "model_module_version": "1.5.0",
          "state": {
            "_view_name": "HTMLView",
            "style": "IPY_MODEL_70d030fb684f42d394a96e1e8596b901",
            "_dom_classes": [],
            "description": "",
            "_model_name": "HTMLModel",
            "placeholder": "​",
            "_view_module": "@jupyter-widgets/controls",
            "_model_module_version": "1.5.0",
            "value": "Export report to file: 100%",
            "_view_count": null,
            "_view_module_version": "1.5.0",
            "description_tooltip": null,
            "_model_module": "@jupyter-widgets/controls",
            "layout": "IPY_MODEL_c0a5eea697774e9d8500d46090b40388"
          }
        },
        "a07dc047e7f14c55a4922e660a56f074": {
          "model_module": "@jupyter-widgets/controls",
          "model_name": "FloatProgressModel",
          "model_module_version": "1.5.0",
          "state": {
            "_view_name": "ProgressView",
            "style": "IPY_MODEL_d776930e9dea41debb01242f5e6a6b25",
            "_dom_classes": [],
            "description": "",
            "_model_name": "FloatProgressModel",
            "bar_style": "success",
            "max": 1,
            "_view_module": "@jupyter-widgets/controls",
            "_model_module_version": "1.5.0",
            "value": 1,
            "_view_count": null,
            "_view_module_version": "1.5.0",
            "orientation": "horizontal",
            "min": 0,
            "description_tooltip": null,
            "_model_module": "@jupyter-widgets/controls",
            "layout": "IPY_MODEL_75ac205ebf7548c0b934807d43845d57"
          }
        },
        "193c9528c8a44ac3b8cc12d1dd86d77b": {
          "model_module": "@jupyter-widgets/controls",
          "model_name": "HTMLModel",
          "model_module_version": "1.5.0",
          "state": {
            "_view_name": "HTMLView",
            "style": "IPY_MODEL_03054cacbf2f4fee88d23f008e1432ae",
            "_dom_classes": [],
            "description": "",
            "_model_name": "HTMLModel",
            "placeholder": "​",
            "_view_module": "@jupyter-widgets/controls",
            "_model_module_version": "1.5.0",
            "value": " 1/1 [00:00&lt;00:00, 13.75it/s]",
            "_view_count": null,
            "_view_module_version": "1.5.0",
            "description_tooltip": null,
            "_model_module": "@jupyter-widgets/controls",
            "layout": "IPY_MODEL_3e4fb0dfdae6439caf02006f4a515b28"
          }
        },
        "70d030fb684f42d394a96e1e8596b901": {
          "model_module": "@jupyter-widgets/controls",
          "model_name": "DescriptionStyleModel",
          "model_module_version": "1.5.0",
          "state": {
            "_view_name": "StyleView",
            "_model_name": "DescriptionStyleModel",
            "description_width": "",
            "_view_module": "@jupyter-widgets/base",
            "_model_module_version": "1.5.0",
            "_view_count": null,
            "_view_module_version": "1.2.0",
            "_model_module": "@jupyter-widgets/controls"
          }
        },
        "c0a5eea697774e9d8500d46090b40388": {
          "model_module": "@jupyter-widgets/base",
          "model_name": "LayoutModel",
          "model_module_version": "1.2.0",
          "state": {
            "_view_name": "LayoutView",
            "grid_template_rows": null,
            "right": null,
            "justify_content": null,
            "_view_module": "@jupyter-widgets/base",
            "overflow": null,
            "_model_module_version": "1.2.0",
            "_view_count": null,
            "flex_flow": null,
            "width": null,
            "min_width": null,
            "border": null,
            "align_items": null,
            "bottom": null,
            "_model_module": "@jupyter-widgets/base",
            "top": null,
            "grid_column": null,
            "overflow_y": null,
            "overflow_x": null,
            "grid_auto_flow": null,
            "grid_area": null,
            "grid_template_columns": null,
            "flex": null,
            "_model_name": "LayoutModel",
            "justify_items": null,
            "grid_row": null,
            "max_height": null,
            "align_content": null,
            "visibility": null,
            "align_self": null,
            "height": null,
            "min_height": null,
            "padding": null,
            "grid_auto_rows": null,
            "grid_gap": null,
            "max_width": null,
            "order": null,
            "_view_module_version": "1.2.0",
            "grid_template_areas": null,
            "object_position": null,
            "object_fit": null,
            "grid_auto_columns": null,
            "margin": null,
            "display": null,
            "left": null
          }
        },
        "d776930e9dea41debb01242f5e6a6b25": {
          "model_module": "@jupyter-widgets/controls",
          "model_name": "ProgressStyleModel",
          "model_module_version": "1.5.0",
          "state": {
            "_view_name": "StyleView",
            "_model_name": "ProgressStyleModel",
            "description_width": "",
            "_view_module": "@jupyter-widgets/base",
            "_model_module_version": "1.5.0",
            "_view_count": null,
            "_view_module_version": "1.2.0",
            "bar_color": null,
            "_model_module": "@jupyter-widgets/controls"
          }
        },
        "75ac205ebf7548c0b934807d43845d57": {
          "model_module": "@jupyter-widgets/base",
          "model_name": "LayoutModel",
          "model_module_version": "1.2.0",
          "state": {
            "_view_name": "LayoutView",
            "grid_template_rows": null,
            "right": null,
            "justify_content": null,
            "_view_module": "@jupyter-widgets/base",
            "overflow": null,
            "_model_module_version": "1.2.0",
            "_view_count": null,
            "flex_flow": null,
            "width": null,
            "min_width": null,
            "border": null,
            "align_items": null,
            "bottom": null,
            "_model_module": "@jupyter-widgets/base",
            "top": null,
            "grid_column": null,
            "overflow_y": null,
            "overflow_x": null,
            "grid_auto_flow": null,
            "grid_area": null,
            "grid_template_columns": null,
            "flex": null,
            "_model_name": "LayoutModel",
            "justify_items": null,
            "grid_row": null,
            "max_height": null,
            "align_content": null,
            "visibility": null,
            "align_self": null,
            "height": null,
            "min_height": null,
            "padding": null,
            "grid_auto_rows": null,
            "grid_gap": null,
            "max_width": null,
            "order": null,
            "_view_module_version": "1.2.0",
            "grid_template_areas": null,
            "object_position": null,
            "object_fit": null,
            "grid_auto_columns": null,
            "margin": null,
            "display": null,
            "left": null
          }
        },
        "03054cacbf2f4fee88d23f008e1432ae": {
          "model_module": "@jupyter-widgets/controls",
          "model_name": "DescriptionStyleModel",
          "model_module_version": "1.5.0",
          "state": {
            "_view_name": "StyleView",
            "_model_name": "DescriptionStyleModel",
            "description_width": "",
            "_view_module": "@jupyter-widgets/base",
            "_model_module_version": "1.5.0",
            "_view_count": null,
            "_view_module_version": "1.2.0",
            "_model_module": "@jupyter-widgets/controls"
          }
        },
        "3e4fb0dfdae6439caf02006f4a515b28": {
          "model_module": "@jupyter-widgets/base",
          "model_name": "LayoutModel",
          "model_module_version": "1.2.0",
          "state": {
            "_view_name": "LayoutView",
            "grid_template_rows": null,
            "right": null,
            "justify_content": null,
            "_view_module": "@jupyter-widgets/base",
            "overflow": null,
            "_model_module_version": "1.2.0",
            "_view_count": null,
            "flex_flow": null,
            "width": null,
            "min_width": null,
            "border": null,
            "align_items": null,
            "bottom": null,
            "_model_module": "@jupyter-widgets/base",
            "top": null,
            "grid_column": null,
            "overflow_y": null,
            "overflow_x": null,
            "grid_auto_flow": null,
            "grid_area": null,
            "grid_template_columns": null,
            "flex": null,
            "_model_name": "LayoutModel",
            "justify_items": null,
            "grid_row": null,
            "max_height": null,
            "align_content": null,
            "visibility": null,
            "align_self": null,
            "height": null,
            "min_height": null,
            "padding": null,
            "grid_auto_rows": null,
            "grid_gap": null,
            "max_width": null,
            "order": null,
            "_view_module_version": "1.2.0",
            "grid_template_areas": null,
            "object_position": null,
            "object_fit": null,
            "grid_auto_columns": null,
            "margin": null,
            "display": null,
            "left": null
          }
        }
      }
    }
  },
  "cells": [
    {
      "cell_type": "markdown",
      "source": [
        "## Resources:\n",
        "* https://github.com/mwouts/itables?ref=pythonrepo.com | itables\n",
        "* https://dash.plotly.com/reference | Dash api\n",
        "* https://docs.bokeh.org/en/latest/docs/first_steps/first_steps_1.html | Bokeh\n",
        "* https://github.com/ResidentMario/missingno | Missingno\n",
        "* https://pypi.org/project/html-to-json/ | Html to Json\n",
        "* https://colab.research.google.com/github/vopani/datatableton/blob/main/notebooks/01_datatable_introduction_solutions.ipynb#scrollTo=b5a9e1bf | Datableton"
      ],
      "metadata": {
        "id": "ZX3GoEp1-WUi"
      }
    },
    {
      "cell_type": "code",
      "execution_count": null,
      "metadata": {
        "id": "_SlkstIas2Im"
      },
      "outputs": [],
      "source": [
        "! pip install dash   \n",
        "! pip install dash-html-components                                         \n",
        "! pip install dash-core-components                                     \n",
        "! pip install plotly\n",
        "! pip install bokeh\n",
        "! pip install missingno"
      ]
    },
    {
      "cell_type": "code",
      "source": [
        "!pip install itables"
      ],
      "metadata": {
        "id": "xwsf9rQK80lH"
      },
      "execution_count": null,
      "outputs": []
    },
    {
      "cell_type": "code",
      "source": [
        "!pip install pandas==1.3.3\n",
        "!pip install  pandas_profiling==3.0.0\n",
        "!pip install pyyaml==5.4.1\n",
        "!pip install xmltojson\n",
        "!pip install xmltodict\n",
        "!pip install html-to-json"
      ],
      "metadata": {
        "id": "ckvGn7Q-1aO5"
      },
      "execution_count": null,
      "outputs": []
    },
    {
      "cell_type": "code",
      "source": [
        "!python3 -m pip install -U datatable"
      ],
      "metadata": {
        "id": "ZnZLSVOe8aHx"
      },
      "execution_count": null,
      "outputs": []
    },
    {
      "cell_type": "code",
      "source": [
        "!pip install pyarrow"
      ],
      "metadata": {
        "id": "5BUtOyCQDrQP"
      },
      "execution_count": null,
      "outputs": []
    },
    {
      "cell_type": "code",
      "source": [
        "!pip install great_expectations\n"
      ],
      "metadata": {
        "id": "OoiFzvRcrhF8"
      },
      "execution_count": null,
      "outputs": []
    },
    {
      "cell_type": "code",
      "source": [
        "import pandas as pd\n",
        "import numpy as np\n",
        "\n",
        "import dash\n",
        "from dash import html\n",
        "from dash import dcc\n",
        "import plotly.graph_objects as go\n",
        "import plotly.express as px\n",
        "\n",
        "from bokeh.plotting import figure, show\n",
        "\n",
        "import missingno as msno\n",
        "\n",
        "#from itables import init_notebook_mode\n",
        "#from itables import show\n",
        "\n",
        "from pandas.api.types import is_datetime64_any_dtype as is_datetime\n",
        "\n",
        "from pandas.errors import ParserError\n",
        "\n",
        "from html.parser import HTMLParser\n",
        "\n",
        "from pandas_profiling import ProfileReport\n",
        "\n",
        "from bs4 import BeautifulSoup as bs\n",
        "\n",
        "#import xmltojson\n",
        "import xmltodict, json\n",
        "\n",
        "from lxml import etree\n",
        "\n",
        "import html_to_json\n",
        "\n",
        "import great_expectations\n",
        "\n",
        "%matplotlib inline"
      ],
      "metadata": {
        "id": "mV6Q52e9s50F"
      },
      "execution_count": 5,
      "outputs": []
    },
    {
      "cell_type": "code",
      "source": [
        ""
      ],
      "metadata": {
        "colab": {
          "base_uri": "https://localhost:8080/"
        },
        "id": "5P4T-vk3rviD",
        "outputId": "a4ce269c-153c-418b-8a95-e46fd1a3be60"
      },
      "execution_count": 4,
      "outputs": [
        {
          "output_type": "stream",
          "name": "stderr",
          "text": [
            "/usr/local/lib/python3.7/dist-packages/psycopg2/__init__.py:144: UserWarning: The psycopg2 wheel package will be renamed from release 2.8; in order to keep installing from binary please use \"pip install psycopg2-binary\" instead. For details see: <http://initd.org/psycopg/docs/install.html#binary-install-from-pypi>.\n",
            "  \"\"\")\n"
          ]
        }
      ]
    },
    {
      "cell_type": "markdown",
      "source": [
        "## Read Data"
      ],
      "metadata": {
        "id": "TD7qkpvrFbpL"
      }
    },
    {
      "cell_type": "code",
      "source": [
        "#kaggle datasets download -d sinatavakolibanizi/samsung-aftersales-service-in-iran"
      ],
      "metadata": {
        "id": "CLHHTAOR1X4-"
      },
      "execution_count": 6,
      "outputs": []
    },
    {
      "cell_type": "code",
      "source": [
        "df = pd.read_csv('samdata.csv')\n",
        "df.head()"
      ],
      "metadata": {
        "colab": {
          "base_uri": "https://localhost:8080/",
          "height": 0
        },
        "id": "tS-0zgVP2Za9",
        "outputId": "33453cb2-e7e4-493a-9aaf-9e8f4bfb0c37"
      },
      "execution_count": 7,
      "outputs": [
        {
          "output_type": "execute_result",
          "data": {
            "text/html": [
              "\n",
              "  <div id=\"df-be0c06b0-5568-45f3-9020-03a1db50cab8\">\n",
              "    <div class=\"colab-df-container\">\n",
              "      <div>\n",
              "<style scoped>\n",
              "    .dataframe tbody tr th:only-of-type {\n",
              "        vertical-align: middle;\n",
              "    }\n",
              "\n",
              "    .dataframe tbody tr th {\n",
              "        vertical-align: top;\n",
              "    }\n",
              "\n",
              "    .dataframe thead th {\n",
              "        text-align: right;\n",
              "    }\n",
              "</style>\n",
              "<table border=\"1\" class=\"dataframe\">\n",
              "  <thead>\n",
              "    <tr style=\"text-align: right;\">\n",
              "      <th></th>\n",
              "      <th>No</th>\n",
              "      <th>Service_type</th>\n",
              "      <th>Cost_Type</th>\n",
              "      <th>Product_Group</th>\n",
              "      <th>Serial_No</th>\n",
              "      <th>City</th>\n",
              "      <th>Product_Date</th>\n",
              "      <th>Receipt_Date</th>\n",
              "      <th>Appoint_Date</th>\n",
              "      <th>Complete_Date</th>\n",
              "      <th>TAT01</th>\n",
              "      <th>TAT02</th>\n",
              "      <th>Job_Satus</th>\n",
              "      <th>Defect_Des</th>\n",
              "      <th>Symptom_Desc</th>\n",
              "      <th>Repair_Action_Desc</th>\n",
              "      <th>Labor_Charge_Desc</th>\n",
              "      <th>Engineer</th>\n",
              "      <th>Labor_Charge_Amount</th>\n",
              "      <th>Parts_Amount</th>\n",
              "      <th>Discount_Amount</th>\n",
              "      <th>Total_Invoice_Amount</th>\n",
              "    </tr>\n",
              "  </thead>\n",
              "  <tbody>\n",
              "    <tr>\n",
              "      <th>0</th>\n",
              "      <td>1</td>\n",
              "      <td>0</td>\n",
              "      <td>Normal Warranty</td>\n",
              "      <td>AUDIO - HOME THEAT</td>\n",
              "      <td>2F/LAHFZ7E-IP-X</td>\n",
              "      <td>Tehran</td>\n",
              "      <td>NaN</td>\n",
              "      <td>2/5/2012</td>\n",
              "      <td>2/5/2012</td>\n",
              "      <td>1/21/2013</td>\n",
              "      <td>0</td>\n",
              "      <td>351</td>\n",
              "      <td>0</td>\n",
              "      <td>WORN-OUT</td>\n",
              "      <td>OTHER PROBLEMS</td>\n",
              "      <td>SOFTWARE UPGRADE</td>\n",
              "      <td>Free Of Charge</td>\n",
              "      <td>Tech15</td>\n",
              "      <td>0</td>\n",
              "      <td>0.00</td>\n",
              "      <td>0.000</td>\n",
              "      <td>0.000</td>\n",
              "    </tr>\n",
              "    <tr>\n",
              "      <th>1</th>\n",
              "      <td>2</td>\n",
              "      <td>1</td>\n",
              "      <td>Normal Warranty</td>\n",
              "      <td>REFRIGERATOR-SBS</td>\n",
              "      <td>AIP244AACA/4E7</td>\n",
              "      <td>Tehran</td>\n",
              "      <td>NaN</td>\n",
              "      <td>7/7/2012</td>\n",
              "      <td>9/10/2012</td>\n",
              "      <td>1/31/2013</td>\n",
              "      <td>65</td>\n",
              "      <td>208</td>\n",
              "      <td>1</td>\n",
              "      <td>SHORT</td>\n",
              "      <td>OTHER PROBLEMS</td>\n",
              "      <td>OTHER REPAIR</td>\n",
              "      <td>Free Of Charge</td>\n",
              "      <td>Tech03</td>\n",
              "      <td>0</td>\n",
              "      <td>3437481.60</td>\n",
              "      <td>687486.320</td>\n",
              "      <td>2748885.280</td>\n",
              "    </tr>\n",
              "    <tr>\n",
              "      <th>2</th>\n",
              "      <td>3</td>\n",
              "      <td>1</td>\n",
              "      <td>Normal Warranty</td>\n",
              "      <td>REFRIGERATOR-SBS</td>\n",
              "      <td>JK-C4BBCAEKL72</td>\n",
              "      <td>Tehran</td>\n",
              "      <td>NaN</td>\n",
              "      <td>7/7/2012</td>\n",
              "      <td>8/15/2012</td>\n",
              "      <td>1/31/2013</td>\n",
              "      <td>38</td>\n",
              "      <td>208</td>\n",
              "      <td>1</td>\n",
              "      <td>OPEN</td>\n",
              "      <td>OTHER PROBLEMS</td>\n",
              "      <td>OTHER REPAIR</td>\n",
              "      <td>Free Of Charge</td>\n",
              "      <td>Tech03</td>\n",
              "      <td>0</td>\n",
              "      <td>4228756.56</td>\n",
              "      <td>845751.312</td>\n",
              "      <td>3383005.248</td>\n",
              "    </tr>\n",
              "    <tr>\n",
              "      <th>3</th>\n",
              "      <td>4</td>\n",
              "      <td>0</td>\n",
              "      <td>Out of Warranty</td>\n",
              "      <td>MONITOR - TFT LCD</td>\n",
              "      <td>IP2JO4/-A-47</td>\n",
              "      <td>Tehran</td>\n",
              "      <td>NaN</td>\n",
              "      <td>8/7/2012</td>\n",
              "      <td>8/7/2012</td>\n",
              "      <td>1/13/2013</td>\n",
              "      <td>0</td>\n",
              "      <td>158</td>\n",
              "      <td>1</td>\n",
              "      <td>WORN-OUT</td>\n",
              "      <td>OTHER PROBLEMS</td>\n",
              "      <td>ELECTRICAL PARTS REPLACEMENT</td>\n",
              "      <td>Free Of Charge</td>\n",
              "      <td>Tech15</td>\n",
              "      <td>0</td>\n",
              "      <td>0.00</td>\n",
              "      <td>0.000</td>\n",
              "      <td>0.000</td>\n",
              "    </tr>\n",
              "    <tr>\n",
              "      <th>4</th>\n",
              "      <td>5</td>\n",
              "      <td>0</td>\n",
              "      <td>Out of Warranty</td>\n",
              "      <td>AUDIO - MP3 Player</td>\n",
              "      <td>AU/BCQE2A/P</td>\n",
              "      <td>Tehran</td>\n",
              "      <td>NaN</td>\n",
              "      <td>8/7/2012</td>\n",
              "      <td>8/9/2012</td>\n",
              "      <td>1/7/2013</td>\n",
              "      <td>2</td>\n",
              "      <td>153</td>\n",
              "      <td>1</td>\n",
              "      <td>WORN-OUT</td>\n",
              "      <td>OTHER PROBLEMS</td>\n",
              "      <td>SOFTWARE UPGRADE</td>\n",
              "      <td>Medium</td>\n",
              "      <td>Tech07</td>\n",
              "      <td>120000</td>\n",
              "      <td>765488.60</td>\n",
              "      <td>177087.820</td>\n",
              "      <td>708381.680</td>\n",
              "    </tr>\n",
              "  </tbody>\n",
              "</table>\n",
              "</div>\n",
              "      <button class=\"colab-df-convert\" onclick=\"convertToInteractive('df-be0c06b0-5568-45f3-9020-03a1db50cab8')\"\n",
              "              title=\"Convert this dataframe to an interactive table.\"\n",
              "              style=\"display:none;\">\n",
              "        \n",
              "  <svg xmlns=\"http://www.w3.org/2000/svg\" height=\"24px\"viewBox=\"0 0 24 24\"\n",
              "       width=\"24px\">\n",
              "    <path d=\"M0 0h24v24H0V0z\" fill=\"none\"/>\n",
              "    <path d=\"M18.56 5.44l.94 2.06.94-2.06 2.06-.94-2.06-.94-.94-2.06-.94 2.06-2.06.94zm-11 1L8.5 8.5l.94-2.06 2.06-.94-2.06-.94L8.5 2.5l-.94 2.06-2.06.94zm10 10l.94 2.06.94-2.06 2.06-.94-2.06-.94-.94-2.06-.94 2.06-2.06.94z\"/><path d=\"M17.41 7.96l-1.37-1.37c-.4-.4-.92-.59-1.43-.59-.52 0-1.04.2-1.43.59L10.3 9.45l-7.72 7.72c-.78.78-.78 2.05 0 2.83L4 21.41c.39.39.9.59 1.41.59.51 0 1.02-.2 1.41-.59l7.78-7.78 2.81-2.81c.8-.78.8-2.07 0-2.86zM5.41 20L4 18.59l7.72-7.72 1.47 1.35L5.41 20z\"/>\n",
              "  </svg>\n",
              "      </button>\n",
              "      \n",
              "  <style>\n",
              "    .colab-df-container {\n",
              "      display:flex;\n",
              "      flex-wrap:wrap;\n",
              "      gap: 12px;\n",
              "    }\n",
              "\n",
              "    .colab-df-convert {\n",
              "      background-color: #E8F0FE;\n",
              "      border: none;\n",
              "      border-radius: 50%;\n",
              "      cursor: pointer;\n",
              "      display: none;\n",
              "      fill: #1967D2;\n",
              "      height: 32px;\n",
              "      padding: 0 0 0 0;\n",
              "      width: 32px;\n",
              "    }\n",
              "\n",
              "    .colab-df-convert:hover {\n",
              "      background-color: #E2EBFA;\n",
              "      box-shadow: 0px 1px 2px rgba(60, 64, 67, 0.3), 0px 1px 3px 1px rgba(60, 64, 67, 0.15);\n",
              "      fill: #174EA6;\n",
              "    }\n",
              "\n",
              "    [theme=dark] .colab-df-convert {\n",
              "      background-color: #3B4455;\n",
              "      fill: #D2E3FC;\n",
              "    }\n",
              "\n",
              "    [theme=dark] .colab-df-convert:hover {\n",
              "      background-color: #434B5C;\n",
              "      box-shadow: 0px 1px 3px 1px rgba(0, 0, 0, 0.15);\n",
              "      filter: drop-shadow(0px 1px 2px rgba(0, 0, 0, 0.3));\n",
              "      fill: #FFFFFF;\n",
              "    }\n",
              "  </style>\n",
              "\n",
              "      <script>\n",
              "        const buttonEl =\n",
              "          document.querySelector('#df-be0c06b0-5568-45f3-9020-03a1db50cab8 button.colab-df-convert');\n",
              "        buttonEl.style.display =\n",
              "          google.colab.kernel.accessAllowed ? 'block' : 'none';\n",
              "\n",
              "        async function convertToInteractive(key) {\n",
              "          const element = document.querySelector('#df-be0c06b0-5568-45f3-9020-03a1db50cab8');\n",
              "          const dataTable =\n",
              "            await google.colab.kernel.invokeFunction('convertToInteractive',\n",
              "                                                     [key], {});\n",
              "          if (!dataTable) return;\n",
              "\n",
              "          const docLinkHtml = 'Like what you see? Visit the ' +\n",
              "            '<a target=\"_blank\" href=https://colab.research.google.com/notebooks/data_table.ipynb>data table notebook</a>'\n",
              "            + ' to learn more about interactive tables.';\n",
              "          element.innerHTML = '';\n",
              "          dataTable['output_type'] = 'display_data';\n",
              "          await google.colab.output.renderOutput(dataTable, element);\n",
              "          const docLink = document.createElement('div');\n",
              "          docLink.innerHTML = docLinkHtml;\n",
              "          element.appendChild(docLink);\n",
              "        }\n",
              "      </script>\n",
              "    </div>\n",
              "  </div>\n",
              "  "
            ],
            "text/plain": [
              "   No  Service_type  ... Discount_Amount Total_Invoice_Amount\n",
              "0   1             0  ...           0.000                0.000\n",
              "1   2             1  ...      687486.320          2748885.280\n",
              "2   3             1  ...      845751.312          3383005.248\n",
              "3   4             0  ...           0.000                0.000\n",
              "4   5             0  ...      177087.820           708381.680\n",
              "\n",
              "[5 rows x 22 columns]"
            ]
          },
          "metadata": {},
          "execution_count": 7
        }
      ]
    },
    {
      "cell_type": "code",
      "source": [
        "[column for column in df.columns if is_datetime(df[column])]"
      ],
      "metadata": {
        "colab": {
          "base_uri": "https://localhost:8080/"
        },
        "id": "RMcZgiLeP8PU",
        "outputId": "08bade13-e2b7-40ee-84c0-5cfd3a74906f"
      },
      "execution_count": 8,
      "outputs": [
        {
          "output_type": "execute_result",
          "data": {
            "text/plain": [
              "[]"
            ]
          },
          "metadata": {},
          "execution_count": 8
        }
      ]
    },
    {
      "cell_type": "code",
      "source": [
        "\n",
        "def is_datetime_df(df):\n",
        "  dt_column = []\n",
        "  for c in df.columns[df.dtypes=='object']: #don't cnvt num\n",
        "      try:\n",
        "          df[c]=pd.to_datetime(df[c])\n",
        "          dt_column.append(C)\n",
        "      except Exception as khar: #Can't cnvrt some\n",
        "          print(khar)\n",
        "          pass # ...so leave whole column as-is unconverted\n",
        "      \n",
        "  return df,dt_column"
      ],
      "metadata": {
        "id": "tjSnmceYd_iZ"
      },
      "execution_count": 9,
      "outputs": []
    },
    {
      "cell_type": "code",
      "source": [
        "df , date_time_detected_column = is_datetime_df(df)"
      ],
      "metadata": {
        "colab": {
          "base_uri": "https://localhost:8080/"
        },
        "id": "WN7SSTGVQtA0",
        "outputId": "4d48f86a-679a-418c-d406-2d6f90a8323c"
      },
      "execution_count": 10,
      "outputs": [
        {
          "output_type": "stream",
          "name": "stdout",
          "text": [
            "Unknown string format: Normal Warranty\n",
            "Unknown string format: AUDIO - HOME THEAT\n",
            "Unknown string format: 2F/LAHFZ7E-IP-X\n",
            "Unknown string format: Tehran\n",
            "name 'C' is not defined\n",
            "name 'C' is not defined\n",
            "name 'C' is not defined\n",
            "Unknown string format: WORN-OUT\n",
            "Unknown string format: OTHER PROBLEMS\n",
            "Unknown string format: SOFTWARE UPGRADE\n",
            "Unknown string format: Free Of Charge\n",
            "Unknown string format: Tech15\n"
          ]
        }
      ]
    },
    {
      "cell_type": "code",
      "source": [
        "date_time_detected_column"
      ],
      "metadata": {
        "colab": {
          "base_uri": "https://localhost:8080/"
        },
        "id": "mH8EqbV6egC4",
        "outputId": "b5771eba-8b16-48c4-9df2-010b8d6a599a"
      },
      "execution_count": 11,
      "outputs": [
        {
          "output_type": "execute_result",
          "data": {
            "text/plain": [
              "[]"
            ]
          },
          "metadata": {},
          "execution_count": 11
        }
      ]
    },
    {
      "cell_type": "code",
      "source": [
        "type(df['Appoint_Date'][1])"
      ],
      "metadata": {
        "colab": {
          "base_uri": "https://localhost:8080/"
        },
        "id": "5hY0TSwlgjma",
        "outputId": "64c2110f-cc79-495d-f48e-5dd59c3bbfb4"
      },
      "execution_count": 12,
      "outputs": [
        {
          "output_type": "execute_result",
          "data": {
            "text/plain": [
              "pandas._libs.tslibs.timestamps.Timestamp"
            ]
          },
          "metadata": {},
          "execution_count": 12
        }
      ]
    },
    {
      "cell_type": "code",
      "source": [
        "df.describe()"
      ],
      "metadata": {
        "colab": {
          "base_uri": "https://localhost:8080/",
          "height": 0
        },
        "id": "jEfliy6lh7Xi",
        "outputId": "2af8b37a-c17a-4a2f-95f3-416b6e6e9f65"
      },
      "execution_count": 13,
      "outputs": [
        {
          "output_type": "execute_result",
          "data": {
            "text/html": [
              "\n",
              "  <div id=\"df-f01d0391-a01f-4758-bce6-cc6be5ecd1ee\">\n",
              "    <div class=\"colab-df-container\">\n",
              "      <div>\n",
              "<style scoped>\n",
              "    .dataframe tbody tr th:only-of-type {\n",
              "        vertical-align: middle;\n",
              "    }\n",
              "\n",
              "    .dataframe tbody tr th {\n",
              "        vertical-align: top;\n",
              "    }\n",
              "\n",
              "    .dataframe thead th {\n",
              "        text-align: right;\n",
              "    }\n",
              "</style>\n",
              "<table border=\"1\" class=\"dataframe\">\n",
              "  <thead>\n",
              "    <tr style=\"text-align: right;\">\n",
              "      <th></th>\n",
              "      <th>No</th>\n",
              "      <th>Service_type</th>\n",
              "      <th>Product_Date</th>\n",
              "      <th>TAT01</th>\n",
              "      <th>TAT02</th>\n",
              "      <th>Job_Satus</th>\n",
              "      <th>Labor_Charge_Amount</th>\n",
              "      <th>Parts_Amount</th>\n",
              "      <th>Discount_Amount</th>\n",
              "      <th>Total_Invoice_Amount</th>\n",
              "    </tr>\n",
              "  </thead>\n",
              "  <tbody>\n",
              "    <tr>\n",
              "      <th>count</th>\n",
              "      <td>3136.000000</td>\n",
              "      <td>3136.000000</td>\n",
              "      <td>724.000000</td>\n",
              "      <td>3136.000000</td>\n",
              "      <td>3136.000000</td>\n",
              "      <td>3136.000000</td>\n",
              "      <td>3136.000000</td>\n",
              "      <td>3.136000e+03</td>\n",
              "      <td>3.136000e+03</td>\n",
              "      <td>3.136000e+03</td>\n",
              "    </tr>\n",
              "    <tr>\n",
              "      <th>mean</th>\n",
              "      <td>1568.500000</td>\n",
              "      <td>0.105230</td>\n",
              "      <td>39227.758287</td>\n",
              "      <td>1.289222</td>\n",
              "      <td>6.647959</td>\n",
              "      <td>0.977360</td>\n",
              "      <td>129877.232143</td>\n",
              "      <td>2.303481e+06</td>\n",
              "      <td>4.844214e+05</td>\n",
              "      <td>1.924006e+06</td>\n",
              "    </tr>\n",
              "    <tr>\n",
              "      <th>std</th>\n",
              "      <td>905.429548</td>\n",
              "      <td>0.306898</td>\n",
              "      <td>1152.746282</td>\n",
              "      <td>5.060422</td>\n",
              "      <td>14.012700</td>\n",
              "      <td>0.148778</td>\n",
              "      <td>176843.065376</td>\n",
              "      <td>6.682868e+06</td>\n",
              "      <td>1.349372e+06</td>\n",
              "      <td>5.400547e+06</td>\n",
              "    </tr>\n",
              "    <tr>\n",
              "      <th>min</th>\n",
              "      <td>1.000000</td>\n",
              "      <td>0.000000</td>\n",
              "      <td>33870.000000</td>\n",
              "      <td>0.000000</td>\n",
              "      <td>0.000000</td>\n",
              "      <td>0.000000</td>\n",
              "      <td>0.000000</td>\n",
              "      <td>0.000000e+00</td>\n",
              "      <td>0.000000e+00</td>\n",
              "      <td>0.000000e+00</td>\n",
              "    </tr>\n",
              "    <tr>\n",
              "      <th>25%</th>\n",
              "      <td>784.750000</td>\n",
              "      <td>0.000000</td>\n",
              "      <td>38451.000000</td>\n",
              "      <td>0.000000</td>\n",
              "      <td>1.000000</td>\n",
              "      <td>1.000000</td>\n",
              "      <td>0.000000</td>\n",
              "      <td>0.000000e+00</td>\n",
              "      <td>0.000000e+00</td>\n",
              "      <td>0.000000e+00</td>\n",
              "    </tr>\n",
              "    <tr>\n",
              "      <th>50%</th>\n",
              "      <td>1568.500000</td>\n",
              "      <td>0.000000</td>\n",
              "      <td>38823.000000</td>\n",
              "      <td>0.000000</td>\n",
              "      <td>3.000000</td>\n",
              "      <td>1.000000</td>\n",
              "      <td>0.000000</td>\n",
              "      <td>0.000000e+00</td>\n",
              "      <td>0.000000e+00</td>\n",
              "      <td>0.000000e+00</td>\n",
              "    </tr>\n",
              "    <tr>\n",
              "      <th>75%</th>\n",
              "      <td>2352.250000</td>\n",
              "      <td>0.000000</td>\n",
              "      <td>40188.000000</td>\n",
              "      <td>1.000000</td>\n",
              "      <td>6.000000</td>\n",
              "      <td>1.000000</td>\n",
              "      <td>250000.000000</td>\n",
              "      <td>7.510464e+04</td>\n",
              "      <td>8.738318e+04</td>\n",
              "      <td>3.827746e+05</td>\n",
              "    </tr>\n",
              "    <tr>\n",
              "      <th>max</th>\n",
              "      <td>3136.000000</td>\n",
              "      <td>1.000000</td>\n",
              "      <td>40813.000000</td>\n",
              "      <td>81.000000</td>\n",
              "      <td>351.000000</td>\n",
              "      <td>1.000000</td>\n",
              "      <td>540000.000000</td>\n",
              "      <td>4.480716e+07</td>\n",
              "      <td>8.088432e+06</td>\n",
              "      <td>3.635773e+07</td>\n",
              "    </tr>\n",
              "  </tbody>\n",
              "</table>\n",
              "</div>\n",
              "      <button class=\"colab-df-convert\" onclick=\"convertToInteractive('df-f01d0391-a01f-4758-bce6-cc6be5ecd1ee')\"\n",
              "              title=\"Convert this dataframe to an interactive table.\"\n",
              "              style=\"display:none;\">\n",
              "        \n",
              "  <svg xmlns=\"http://www.w3.org/2000/svg\" height=\"24px\"viewBox=\"0 0 24 24\"\n",
              "       width=\"24px\">\n",
              "    <path d=\"M0 0h24v24H0V0z\" fill=\"none\"/>\n",
              "    <path d=\"M18.56 5.44l.94 2.06.94-2.06 2.06-.94-2.06-.94-.94-2.06-.94 2.06-2.06.94zm-11 1L8.5 8.5l.94-2.06 2.06-.94-2.06-.94L8.5 2.5l-.94 2.06-2.06.94zm10 10l.94 2.06.94-2.06 2.06-.94-2.06-.94-.94-2.06-.94 2.06-2.06.94z\"/><path d=\"M17.41 7.96l-1.37-1.37c-.4-.4-.92-.59-1.43-.59-.52 0-1.04.2-1.43.59L10.3 9.45l-7.72 7.72c-.78.78-.78 2.05 0 2.83L4 21.41c.39.39.9.59 1.41.59.51 0 1.02-.2 1.41-.59l7.78-7.78 2.81-2.81c.8-.78.8-2.07 0-2.86zM5.41 20L4 18.59l7.72-7.72 1.47 1.35L5.41 20z\"/>\n",
              "  </svg>\n",
              "      </button>\n",
              "      \n",
              "  <style>\n",
              "    .colab-df-container {\n",
              "      display:flex;\n",
              "      flex-wrap:wrap;\n",
              "      gap: 12px;\n",
              "    }\n",
              "\n",
              "    .colab-df-convert {\n",
              "      background-color: #E8F0FE;\n",
              "      border: none;\n",
              "      border-radius: 50%;\n",
              "      cursor: pointer;\n",
              "      display: none;\n",
              "      fill: #1967D2;\n",
              "      height: 32px;\n",
              "      padding: 0 0 0 0;\n",
              "      width: 32px;\n",
              "    }\n",
              "\n",
              "    .colab-df-convert:hover {\n",
              "      background-color: #E2EBFA;\n",
              "      box-shadow: 0px 1px 2px rgba(60, 64, 67, 0.3), 0px 1px 3px 1px rgba(60, 64, 67, 0.15);\n",
              "      fill: #174EA6;\n",
              "    }\n",
              "\n",
              "    [theme=dark] .colab-df-convert {\n",
              "      background-color: #3B4455;\n",
              "      fill: #D2E3FC;\n",
              "    }\n",
              "\n",
              "    [theme=dark] .colab-df-convert:hover {\n",
              "      background-color: #434B5C;\n",
              "      box-shadow: 0px 1px 3px 1px rgba(0, 0, 0, 0.15);\n",
              "      filter: drop-shadow(0px 1px 2px rgba(0, 0, 0, 0.3));\n",
              "      fill: #FFFFFF;\n",
              "    }\n",
              "  </style>\n",
              "\n",
              "      <script>\n",
              "        const buttonEl =\n",
              "          document.querySelector('#df-f01d0391-a01f-4758-bce6-cc6be5ecd1ee button.colab-df-convert');\n",
              "        buttonEl.style.display =\n",
              "          google.colab.kernel.accessAllowed ? 'block' : 'none';\n",
              "\n",
              "        async function convertToInteractive(key) {\n",
              "          const element = document.querySelector('#df-f01d0391-a01f-4758-bce6-cc6be5ecd1ee');\n",
              "          const dataTable =\n",
              "            await google.colab.kernel.invokeFunction('convertToInteractive',\n",
              "                                                     [key], {});\n",
              "          if (!dataTable) return;\n",
              "\n",
              "          const docLinkHtml = 'Like what you see? Visit the ' +\n",
              "            '<a target=\"_blank\" href=https://colab.research.google.com/notebooks/data_table.ipynb>data table notebook</a>'\n",
              "            + ' to learn more about interactive tables.';\n",
              "          element.innerHTML = '';\n",
              "          dataTable['output_type'] = 'display_data';\n",
              "          await google.colab.output.renderOutput(dataTable, element);\n",
              "          const docLink = document.createElement('div');\n",
              "          docLink.innerHTML = docLinkHtml;\n",
              "          element.appendChild(docLink);\n",
              "        }\n",
              "      </script>\n",
              "    </div>\n",
              "  </div>\n",
              "  "
            ],
            "text/plain": [
              "                No  Service_type  ...  Discount_Amount  Total_Invoice_Amount\n",
              "count  3136.000000   3136.000000  ...     3.136000e+03          3.136000e+03\n",
              "mean   1568.500000      0.105230  ...     4.844214e+05          1.924006e+06\n",
              "std     905.429548      0.306898  ...     1.349372e+06          5.400547e+06\n",
              "min       1.000000      0.000000  ...     0.000000e+00          0.000000e+00\n",
              "25%     784.750000      0.000000  ...     0.000000e+00          0.000000e+00\n",
              "50%    1568.500000      0.000000  ...     0.000000e+00          0.000000e+00\n",
              "75%    2352.250000      0.000000  ...     8.738318e+04          3.827746e+05\n",
              "max    3136.000000      1.000000  ...     8.088432e+06          3.635773e+07\n",
              "\n",
              "[8 rows x 10 columns]"
            ]
          },
          "metadata": {},
          "execution_count": 13
        }
      ]
    },
    {
      "cell_type": "markdown",
      "source": [
        "## Table"
      ],
      "metadata": {
        "id": "ho8Im_9A7ZRa"
      }
    },
    {
      "cell_type": "code",
      "source": [
        "init_notebook_mode(all_interactive=True)"
      ],
      "metadata": {
        "colab": {
          "base_uri": "https://localhost:8080/",
          "height": 16
        },
        "id": "D3buVwXB8_Ov",
        "outputId": "e3b4ced9-b472-48d3-94ea-a0e703fef13d"
      },
      "execution_count": null,
      "outputs": [
        {
          "output_type": "display_data",
          "data": {
            "application/javascript": [
              "if (typeof require !== 'undefined')\n",
              "    require.config({\n",
              "        paths: {\n",
              "            jquery: 'https://code.jquery.com/jquery-3.5.1.min',\n",
              "            datatables: 'https://cdn.datatables.net/1.11.3/js/jquery.dataTables.min',\n",
              "        }\n",
              "    });\n"
            ],
            "text/plain": [
              "<IPython.core.display.Javascript object>"
            ]
          },
          "metadata": {}
        }
      ]
    },
    {
      "cell_type": "code",
      "source": [
        "vc = {}\n",
        "for column in df.columns:\n",
        "  if df[column].dtypes==object  :\n",
        "    vc[column] = df[column].value_counts()\n",
        "  else:\n",
        "    vc[column] = 'numeric'\n",
        "#df_vc = pd.DataFrame.from_dict(vc,orient='index')\n"
      ],
      "metadata": {
        "id": "HA1dE9tBOkak"
      },
      "execution_count": null,
      "outputs": []
    },
    {
      "cell_type": "code",
      "source": [
        "vc"
      ],
      "metadata": {
        "id": "9gX-b1dVPbr5"
      },
      "execution_count": null,
      "outputs": []
    },
    {
      "cell_type": "code",
      "source": [
        "nu = {}\n",
        "for column in df.columns:\n",
        "  nu[column] = df[column].nunique()\n",
        "df_nu = pd.DataFrame.from_dict(nu,orient='index')\n",
        "dt_nu = pd.merge(pd.DataFrame(df.dtypes),df_nu,on=df_nu.index)\n",
        "dt_nu = dt_nu.set_index('key_0')\n",
        "dt_nu.columns = ['dtypes','number_of_unique_values']\n",
        "show(dt_nu)"
      ],
      "metadata": {
        "colab": {
          "base_uri": "https://localhost:8080/",
          "height": 484
        },
        "id": "M9OQLWnT5ItI",
        "outputId": "ddac82f9-0ffa-455c-8041-ded735e37ac2"
      },
      "execution_count": null,
      "outputs": [
        {
          "output_type": "display_data",
          "data": {
            "text/html": [
              "<table id=\"92dafbce-4517-4a70-bda9-7d13001a8812\" class=\"display\"><thead><th></th><th>dtypes</th><th>number_of_unique_values</th></thead><tbody><tr><td>Loading... (need <a href=https://github.com/mwouts/itables/#table-not-loading>help</a>?)</td></tr></tbody></table>\n",
              "<link rel=\"stylesheet\" type=\"text/css\" href=\"https://cdn.datatables.net/1.11.3/css/jquery.dataTables.min.css\">\n",
              "<style> table td {\n",
              "    text-overflow: ellipsis;\n",
              "    overflow: hidden;\n",
              "} </style>\n",
              "<style> table th {\n",
              "    text-overflow: ellipsis;\n",
              "    overflow: hidden;\n",
              "} </style>\n",
              "<script type=\"module\">\n",
              "    // Define the table data\n",
              "    const data = [[\"No\", \"int64\", 3136], [\"Service_type\", \"int64\", 2], [\"Cost_Type\", \"object\", 3], [\"Product_Group\", \"object\", 25], [\"Serial_No\", \"object\", 3032], [\"City\", \"object\", 115], [\"Product_Date\", \"float64\", 100], [\"Receipt_Date\", \"object\", 74], [\"Appoint_Date\", \"object\", 74], [\"Complete_Date\", \"object\", 23], [\"TAT01\", \"int64\", 46], [\"TAT02\", \"int64\", 71], [\"Job_Satus\", \"int64\", 2], [\"Defect_Des\", \"object\", 10], [\"Symptom_Desc\", \"object\", 42], [\"Repair_Action_Desc\", \"object\", 26], [\"Labor_Charge_Desc\", \"object\", 6], [\"Engineer\", \"object\", 22], [\"Labor_Charge_Amount\", \"int64\", 19], [\"Parts_Amount\", \"float64\", 306], [\"Discount_Amount\", \"float64\", 397], [\"Total_Invoice_Amount\", \"float64\", 398]];\n",
              "\n",
              "    if (typeof require === 'undefined') {\n",
              "        // TODO: This should become the default (use a simple import)\n",
              "        // when the ESM version works independently of whether\n",
              "        // require.js is there or not, see\n",
              "        // https://datatables.net/forums/discussion/69066/esm-es6-module-support?\n",
              "        const {default: $} = await import(\"https://esm.sh/jquery@3.5.0\");\n",
              "        const {default: initDataTables} = await import(\"https://esm.sh/datatables.net@1.11.3?deps=jquery@3.5.0\");\n",
              "\n",
              "        initDataTables();\n",
              "\n",
              "        // Define the dt_args\n",
              "        let dt_args = {\"columnDefs\": [{\"width\": \"70px\", \"targets\": \"_all\"}]};\n",
              "        dt_args[\"data\"] = data;\n",
              "\n",
              "        // Display the table\n",
              "        $(document).ready(function () {\n",
              "            $('#92dafbce-4517-4a70-bda9-7d13001a8812').DataTable(dt_args);\n",
              "        });\n",
              "    } else {\n",
              "        require([\"jquery\", \"datatables\"], ($, datatables) => {\n",
              "                // Define the dt_args\n",
              "                let dt_args = {\"columnDefs\": [{\"width\": \"70px\", \"targets\": \"_all\"}]};\n",
              "                dt_args[\"data\"] = data;\n",
              "\n",
              "                // Display the table\n",
              "                $(document).ready(function () {\n",
              "                    $('#92dafbce-4517-4a70-bda9-7d13001a8812').DataTable(dt_args);\n",
              "                });\n",
              "            }\n",
              "        )\n",
              "    }\n",
              "</script>\n"
            ],
            "text/plain": [
              "<IPython.core.display.HTML object>"
            ]
          },
          "metadata": {}
        }
      ]
    },
    {
      "cell_type": "code",
      "source": [
        ""
      ],
      "metadata": {
        "id": "rzVjzVajJkf8"
      },
      "execution_count": null,
      "outputs": []
    },
    {
      "cell_type": "code",
      "source": [
        "skew = {}\n",
        "for column in df.describe().columns:\n",
        "  skew[column] = df[column].skew()\n",
        "df_skew = pd.DataFrame.from_dict(skew,orient='index')\n",
        "df_skew.columns = ['Skewness']\n",
        "Kurt = {}\n",
        "for column in df.describe().columns:\n",
        "  Kurt[column] = df[column].kurt()\n",
        "df_Kurt = pd.DataFrame.from_dict(Kurt,orient='index')\n",
        "df_Kurt.columns = ['Kurtosis']\n",
        "\n",
        "show(pd.concat([df.describe(),df_skew.transpose(),df_Kurt.transpose()]))"
      ],
      "metadata": {
        "colab": {
          "base_uri": "https://localhost:8080/",
          "height": 475
        },
        "id": "fj4uaONF7b9H",
        "outputId": "1a98085d-c2f3-44f4-d078-77c1aa70d3ce"
      },
      "execution_count": null,
      "outputs": [
        {
          "output_type": "display_data",
          "data": {
            "text/html": [
              "<table id=\"1b3486de-43cd-4e15-aefc-b78b3141072e\" class=\"display\"><thead><th></th><th>No</th><th>Service_type</th><th>Product_Date</th><th>TAT01</th><th>TAT02</th><th>Job_Satus</th><th>Labor_Charge_Amount</th><th>Parts_Amount</th><th>Discount_Amount</th><th>Total_Invoice_Amount</th></thead><tbody><tr><td>Loading... (need <a href=https://github.com/mwouts/itables/#table-not-loading>help</a>?)</td></tr></tbody></table>\n",
              "<link rel=\"stylesheet\" type=\"text/css\" href=\"https://cdn.datatables.net/1.11.3/css/jquery.dataTables.min.css\">\n",
              "<style> table td {\n",
              "    text-overflow: ellipsis;\n",
              "    overflow: hidden;\n",
              "} </style>\n",
              "<style> table th {\n",
              "    text-overflow: ellipsis;\n",
              "    overflow: hidden;\n",
              "} </style>\n",
              "<script type=\"module\">\n",
              "    // Define the table data\n",
              "    const data = [[\"count\", 3136.0, 3136.0, 724.0, 3136.0, 3136.0, 3136.0, 3136.0, 3136.0, 3136.0, 3136.0], [\"mean\", 1568.5, 0.10523, 39227.758287, 1.289222, 6.647959, 0.97736, 129877.232143, 2303481.0, 484421.4, 1924006.0], [\"std\", 905.429548, 0.306898, 1152.746282, 5.060422, 14.0127, 0.148778, 176843.065376, 6682868.0, 1349372.0, 5400547.0], [\"min\", 1.0, 0.0, 33870.0, 0.0, 0.0, 0.0, 0.0, 0.0, 0.0, 0.0], [\"25%\", 784.75, 0.0, 38451.0, 0.0, 1.0, 1.0, 0.0, 0.0, 0.0, 0.0], [\"50%\", 1568.5, 0.0, 38823.0, 0.0, 3.0, 1.0, 0.0, 0.0, 0.0, 0.0], [\"75%\", 2352.25, 0.0, 40188.0, 1.0, 6.0, 1.0, 250000.0, 75104.64, 87383.18, 382774.6], [\"max\", 3136.0, 1.0, 40813.0, 81.0, 351.0, 1.0, 540000.0, 44807160.0, 8088432.0, 36357730.0], [\"Skewness\", 0.0, 2.574291, -0.760195, 8.161239, 9.408136, -6.421185, 0.977561, 3.291013, 3.241939, 3.308086], [\"Kurtosis\", -1.2, 4.629927, 1.7941, 83.796847, 159.443466, 39.256654, -0.573696, 10.43653, 9.951755, 10.55009]];\n",
              "\n",
              "    if (typeof require === 'undefined') {\n",
              "        // TODO: This should become the default (use a simple import)\n",
              "        // when the ESM version works independently of whether\n",
              "        // require.js is there or not, see\n",
              "        // https://datatables.net/forums/discussion/69066/esm-es6-module-support?\n",
              "        const {default: $} = await import(\"https://esm.sh/jquery@3.5.0\");\n",
              "        const {default: initDataTables} = await import(\"https://esm.sh/datatables.net@1.11.3?deps=jquery@3.5.0\");\n",
              "\n",
              "        initDataTables();\n",
              "\n",
              "        // Define the dt_args\n",
              "        let dt_args = {\"columnDefs\": [{\"width\": \"70px\", \"targets\": \"_all\"}], \"paging\": false};\n",
              "        dt_args[\"data\"] = data;\n",
              "\n",
              "        // Display the table\n",
              "        $(document).ready(function () {\n",
              "            $('#1b3486de-43cd-4e15-aefc-b78b3141072e').DataTable(dt_args);\n",
              "        });\n",
              "    } else {\n",
              "        require([\"jquery\", \"datatables\"], ($, datatables) => {\n",
              "                // Define the dt_args\n",
              "                let dt_args = {\"columnDefs\": [{\"width\": \"70px\", \"targets\": \"_all\"}], \"paging\": false};\n",
              "                dt_args[\"data\"] = data;\n",
              "\n",
              "                // Display the table\n",
              "                $(document).ready(function () {\n",
              "                    $('#1b3486de-43cd-4e15-aefc-b78b3141072e').DataTable(dt_args);\n",
              "                });\n",
              "            }\n",
              "        )\n",
              "    }\n",
              "</script>\n"
            ],
            "text/plain": [
              "<IPython.core.display.HTML object>"
            ]
          },
          "metadata": {}
        }
      ]
    },
    {
      "cell_type": "code",
      "source": [
        "df.feature_stat()"
      ],
      "metadata": {
        "colab": {
          "base_uri": "https://localhost:8080/",
          "height": 286
        },
        "id": "XZvGqupAGDLs",
        "outputId": "b608d152-8aae-446a-8634-ee248d68f3f8"
      },
      "execution_count": null,
      "outputs": [
        {
          "output_type": "error",
          "ename": "AttributeError",
          "evalue": "ignored",
          "traceback": [
            "\u001b[0;31m---------------------------------------------------------------------------\u001b[0m",
            "\u001b[0;31mAttributeError\u001b[0m                            Traceback (most recent call last)",
            "\u001b[0;32m<ipython-input-70-3a470def7f9d>\u001b[0m in \u001b[0;36m<module>\u001b[0;34m()\u001b[0m\n\u001b[0;32m----> 1\u001b[0;31m \u001b[0mdf\u001b[0m\u001b[0;34m.\u001b[0m\u001b[0mfeature_stat\u001b[0m\u001b[0;34m(\u001b[0m\u001b[0;34m)\u001b[0m\u001b[0;34m\u001b[0m\u001b[0;34m\u001b[0m\u001b[0m\n\u001b[0m",
            "\u001b[0;32m/usr/local/lib/python3.7/dist-packages/pandas/core/generic.py\u001b[0m in \u001b[0;36m__getattr__\u001b[0;34m(self, name)\u001b[0m\n\u001b[1;32m   5139\u001b[0m             \u001b[0;32mif\u001b[0m \u001b[0mself\u001b[0m\u001b[0;34m.\u001b[0m\u001b[0m_info_axis\u001b[0m\u001b[0;34m.\u001b[0m\u001b[0m_can_hold_identifiers_and_holds_name\u001b[0m\u001b[0;34m(\u001b[0m\u001b[0mname\u001b[0m\u001b[0;34m)\u001b[0m\u001b[0;34m:\u001b[0m\u001b[0;34m\u001b[0m\u001b[0;34m\u001b[0m\u001b[0m\n\u001b[1;32m   5140\u001b[0m                 \u001b[0;32mreturn\u001b[0m \u001b[0mself\u001b[0m\u001b[0;34m[\u001b[0m\u001b[0mname\u001b[0m\u001b[0;34m]\u001b[0m\u001b[0;34m\u001b[0m\u001b[0;34m\u001b[0m\u001b[0m\n\u001b[0;32m-> 5141\u001b[0;31m             \u001b[0;32mreturn\u001b[0m \u001b[0mobject\u001b[0m\u001b[0;34m.\u001b[0m\u001b[0m__getattribute__\u001b[0m\u001b[0;34m(\u001b[0m\u001b[0mself\u001b[0m\u001b[0;34m,\u001b[0m \u001b[0mname\u001b[0m\u001b[0;34m)\u001b[0m\u001b[0;34m\u001b[0m\u001b[0;34m\u001b[0m\u001b[0m\n\u001b[0m\u001b[1;32m   5142\u001b[0m \u001b[0;34m\u001b[0m\u001b[0m\n\u001b[1;32m   5143\u001b[0m     \u001b[0;32mdef\u001b[0m \u001b[0m__setattr__\u001b[0m\u001b[0;34m(\u001b[0m\u001b[0mself\u001b[0m\u001b[0;34m,\u001b[0m \u001b[0mname\u001b[0m\u001b[0;34m:\u001b[0m \u001b[0mstr\u001b[0m\u001b[0;34m,\u001b[0m \u001b[0mvalue\u001b[0m\u001b[0;34m)\u001b[0m \u001b[0;34m->\u001b[0m \u001b[0;32mNone\u001b[0m\u001b[0;34m:\u001b[0m\u001b[0;34m\u001b[0m\u001b[0;34m\u001b[0m\u001b[0m\n",
            "\u001b[0;31mAttributeError\u001b[0m: 'DataFrame' object has no attribute 'feature_stat'"
          ]
        }
      ]
    },
    {
      "cell_type": "markdown",
      "source": [
        "## Missing Values"
      ],
      "metadata": {
        "id": "ACzImFYC7ViS"
      }
    },
    {
      "cell_type": "code",
      "source": [
        "msno.matrix(df)"
      ],
      "metadata": {
        "colab": {
          "base_uri": "https://localhost:8080/",
          "height": 751
        },
        "id": "l1Af1Akw5WB8",
        "outputId": "de85a147-6d57-40ab-db06-3792c261da9b"
      },
      "execution_count": null,
      "outputs": [
        {
          "output_type": "execute_result",
          "data": {
            "text/plain": [
              "<matplotlib.axes._subplots.AxesSubplot at 0x7f98a0cd6dd0>"
            ]
          },
          "metadata": {},
          "execution_count": 15
        },
        {
          "output_type": "display_data",
          "data": {
            "image/png": "[encoded data removed]",
            "text/plain": [
              "<Figure size 1800x720 with 2 Axes>"
            ]
          },
          "metadata": {
            "needs_background": "light"
          }
        }
      ]
    },
    {
      "cell_type": "code",
      "source": [
        ""
      ],
      "metadata": {
        "id": "IwUdKKyy5Yhd"
      },
      "execution_count": null,
      "outputs": []
    },
    {
      "cell_type": "markdown",
      "source": [
        "## Functions"
      ],
      "metadata": {
        "id": "xi1Qj1ahkkCF"
      }
    },
    {
      "cell_type": "markdown",
      "source": [
        "### Pandas-prifiling Functions"
      ],
      "metadata": {
        "id": "k9tg-oXVkowZ"
      }
    },
    {
      "cell_type": "code",
      "source": [
        "def pandas_report(df, params='all', var_names=df.columns, first_rows=True):\n",
        "  \"\"\"\n",
        "  takes a dataframe and returns its report\n",
        "  param = {1:overview, 2:variables , 3:sample , 4:duplicates,all}\n",
        "  var_names = list of variables of dataframe to be analyzed\n",
        "  first_rows = True for 10 first rows and False for 10 last rows\n",
        "  \"\"\"\n",
        "  report = ProfileReport(df)\n",
        "  soup = bs(report.to_html(), 'html.parser')\n",
        "\n",
        "  def get_overview():\n",
        "    overview = soup.find(id=\"overview-dataset_overview\")\n",
        "    parse_overview = xmltodict.parse(str(overview))\n",
        "    return json.dumps(parse_overview)\n",
        "\n",
        "  def get_variable_statistics(var_name):\n",
        "    div = soup.find_all(\"div\", {\"class\": \"variable\"})\n",
        "    for i in div:\n",
        "      if i.p['title'] == var_name:\n",
        "        parse_variable = html_to_json.convert(str(i))\n",
        "        break\n",
        "    #return json.dumps(parse_variable)\n",
        "    return parse_variable\n",
        "\n",
        "  def get_correlation():\n",
        "    pass\n",
        "  \n",
        "  def get_sample(first_rows =True):\n",
        "    #dict_sample= {}\n",
        "    div = soup.find_all(\"div\", {\"class\": \"row spacing\"})\n",
        "    for i in div:\n",
        "      if i.find('h2',{'class':'indent'}):\n",
        "        if first_rows and i.find('h2',{'class':'indent'}).string == 'First rows':\n",
        "          parse_sample = xmltodict.parse(str(i))\n",
        "\n",
        "        if first_rows == False and i.find('h2',{'class':'indent'}).get_text() == 'Last rowshi' or i.find('h2',{'class':'indent'}).string =='Last rows':\n",
        "          parse_sample = xmltodict.parse(str(i))\n",
        "          # print('hello')\n",
        "\n",
        "    return json.dumps(parse_sample)\n",
        "\n",
        "  result = {}\n",
        "  if params != 'all':\n",
        "    for param in list(params):\n",
        "      if param == 1:\n",
        "        result['overview'] = get_overview()\n",
        "\n",
        "      if param == 2:\n",
        "        result['variables'] = [get_variable_statistics(var) for var in var_names]\n",
        "\n",
        "      if param == 3:\n",
        "        result['sample'] = get_sample(first_rows)\n",
        "    return result\n",
        "      #if param == 4:\n",
        "\n",
        "  if params =='all':\n",
        "      result['overview'] = get_overview()\n",
        "      result['variables'] = [get_variable_statistics(var) for var in var_names]\n",
        "      result['sample_first'] = get_sample(True)\n",
        "      result['sample_last'] = get_sample(False)\n",
        "  return result\n"
      ],
      "metadata": {
        "id": "4KumEtn-klbp"
      },
      "execution_count": null,
      "outputs": []
    },
    {
      "cell_type": "code",
      "source": [
        "result = pandas_report(df,2,'No')"
      ],
      "metadata": {
        "colab": {
          "base_uri": "https://localhost:8080/",
          "height": 382,
          "referenced_widgets": [
            "b56705937ff1466999f6a731fd228490",
            "0369800276394ff799f91746f23a849e",
            "7483a69966814751894543d98cadd018",
            "45a76e4515e54f5aa56ab27d6dc4af71",
            "f0152174bfa64cf2accbedd9402d6b3e",
            "9fbbfc8944e84d58b67fd05ebee7192f",
            "499aecbb405b437d9cadce0878485064",
            "cf6e106f40614a719326301d549af310",
            "88a7a42085ff430cba8a8be4edba3e59",
            "3ba9a0c6a23e4f1885395f3916f10443",
            "e5c0ebaf1d9a43b2bb83e056828d51b4",
            "97e6c6dc2b7d45a1911a82d777b4e42c",
            "70416652a84c47feac8395e755fbf50c",
            "099eb99b2ac349eb969bdf6bcf10761e",
            "bfbcc2529e7c4bb093ed51997b0ee4fc",
            "8ede97885891456682f022166884adad",
            "2c16b08c247c49b8ae1807b80b7f00e4",
            "32c4dc4feeff4d0b9e29d27a78c9cdf0",
            "77c8f62455dc46e6b798c57d630231b8",
            "ee7d8d3174844ff4b38cbd9328302330",
            "ec7a37ac8b84443eb128e8b5acb17c20",
            "62caa908575441789f42525f880eef17",
            "5a3710a7b55140248b31958a372fe565",
            "164b47c773c94b76bc18d75da33ab85c",
            "f0be81fb7c1945ee97c3135c9c5ebe24",
            "0c2760aa7121430c9c13607d66e1ceb9",
            "8d7f2e0e7e3246bc81bd330aaf1a0bd0",
            "0981ad6cc5b942499666fa3d5bbed48a",
            "2c31e7b8ff0246dbb1b7a355328a1a35",
            "7fd687f8fd33427b80fc885b40b6da40",
            "03b56b42d8ba4725b6561b0821c86043",
            "5bf6c8c84f1b4e7fbf515c51372fdb8a",
            "17f3b59369e549d7907b277715c8b953"
          ]
        },
        "id": "nDaq7rwFyNV2",
        "outputId": "cfedcece-995b-4275-bc35-7d7624e345a0"
      },
      "execution_count": null,
      "outputs": [
        {
          "output_type": "display_data",
          "data": {
            "application/vnd.jupyter.widget-view+json": {
              "model_id": "b56705937ff1466999f6a731fd228490",
              "version_minor": 0,
              "version_major": 2
            },
            "text/plain": [
              "Summarize dataset:   0%|          | 0/35 [00:00<?, ?it/s]"
            ]
          },
          "metadata": {}
        },
        {
          "output_type": "display_data",
          "data": {
            "application/vnd.jupyter.widget-view+json": {
              "model_id": "97e6c6dc2b7d45a1911a82d777b4e42c",
              "version_minor": 0,
              "version_major": 2
            },
            "text/plain": [
              "Generate report structure:   0%|          | 0/1 [00:00<?, ?it/s]"
            ]
          },
          "metadata": {}
        },
        {
          "output_type": "display_data",
          "data": {
            "application/vnd.jupyter.widget-view+json": {
              "model_id": "5a3710a7b55140248b31958a372fe565",
              "version_minor": 0,
              "version_major": 2
            },
            "text/plain": [
              "Render HTML:   0%|          | 0/1 [00:00<?, ?it/s]"
            ]
          },
          "metadata": {}
        },
        {
          "output_type": "error",
          "ename": "TypeError",
          "evalue": "ignored",
          "traceback": [
            "\u001b[0;31m---------------------------------------------------------------------------\u001b[0m",
            "\u001b[0;31mTypeError\u001b[0m                                 Traceback (most recent call last)",
            "\u001b[0;32m<ipython-input-12-150cbecb2733>\u001b[0m in \u001b[0;36m<module>\u001b[0;34m()\u001b[0m\n\u001b[0;32m----> 1\u001b[0;31m \u001b[0mresult\u001b[0m \u001b[0;34m=\u001b[0m \u001b[0mpandas_report\u001b[0m\u001b[0;34m(\u001b[0m\u001b[0mdf\u001b[0m\u001b[0;34m,\u001b[0m\u001b[0;36m2\u001b[0m\u001b[0;34m,\u001b[0m\u001b[0;34m'No'\u001b[0m\u001b[0;34m)\u001b[0m\u001b[0;34m\u001b[0m\u001b[0;34m\u001b[0m\u001b[0m\n\u001b[0m",
            "\u001b[0;32m<ipython-input-11-023969fc859f>\u001b[0m in \u001b[0;36mpandas_report\u001b[0;34m(df, params, var_names, first_rows)\u001b[0m\n\u001b[1;32m     42\u001b[0m   \u001b[0mresult\u001b[0m \u001b[0;34m=\u001b[0m \u001b[0;34m{\u001b[0m\u001b[0;34m}\u001b[0m\u001b[0;34m\u001b[0m\u001b[0;34m\u001b[0m\u001b[0m\n\u001b[1;32m     43\u001b[0m   \u001b[0;32mif\u001b[0m \u001b[0mparams\u001b[0m \u001b[0;34m!=\u001b[0m \u001b[0;34m'all'\u001b[0m\u001b[0;34m:\u001b[0m\u001b[0;34m\u001b[0m\u001b[0;34m\u001b[0m\u001b[0m\n\u001b[0;32m---> 44\u001b[0;31m     \u001b[0;32mfor\u001b[0m \u001b[0mparam\u001b[0m \u001b[0;32min\u001b[0m \u001b[0mlist\u001b[0m\u001b[0;34m(\u001b[0m\u001b[0mparams\u001b[0m\u001b[0;34m)\u001b[0m\u001b[0;34m:\u001b[0m\u001b[0;34m\u001b[0m\u001b[0;34m\u001b[0m\u001b[0m\n\u001b[0m\u001b[1;32m     45\u001b[0m       \u001b[0;32mif\u001b[0m \u001b[0mparam\u001b[0m \u001b[0;34m==\u001b[0m \u001b[0;36m1\u001b[0m\u001b[0;34m:\u001b[0m\u001b[0;34m\u001b[0m\u001b[0;34m\u001b[0m\u001b[0m\n\u001b[1;32m     46\u001b[0m         \u001b[0mresult\u001b[0m\u001b[0;34m[\u001b[0m\u001b[0;34m'overview'\u001b[0m\u001b[0;34m]\u001b[0m \u001b[0;34m=\u001b[0m \u001b[0mget_overview\u001b[0m\u001b[0;34m(\u001b[0m\u001b[0;34m)\u001b[0m\u001b[0;34m\u001b[0m\u001b[0;34m\u001b[0m\u001b[0m\n",
            "\u001b[0;31mTypeError\u001b[0m: 'int' object is not iterable"
          ]
        }
      ]
    },
    {
      "cell_type": "code",
      "source": [
        "df_n = pd.DataFrame.from_dict(result,orient='index')"
      ],
      "metadata": {
        "id": "9mLmJAdzNygt"
      },
      "execution_count": null,
      "outputs": []
    },
    {
      "cell_type": "code",
      "source": [
        "#name = soup.find(title=\"No\").a['href'][1:]"
      ],
      "metadata": {
        "id": "EkbbUMbZ_DYO"
      },
      "execution_count": null,
      "outputs": []
    },
    {
      "cell_type": "code",
      "source": [
        "dom = etree.HTML(str(div))"
      ],
      "metadata": {
        "id": "2Fc4YOrzduyq"
      },
      "execution_count": null,
      "outputs": []
    },
    {
      "cell_type": "code",
      "source": [
        "report = ProfileReport(df)\n",
        "report.to_file('report2.html')"
      ],
      "metadata": {
        "id": "ddTKOWYe_UhF",
        "colab": {
          "base_uri": "https://localhost:8080/",
          "height": 144,
          "referenced_widgets": [
            "94765f87e41c4aa8b76d451116425d80",
            "ca7e29ab51fc472297aacebb24404e62",
            "ffe7cc22ddce49439b641d44da4f14c5",
            "9e0b2a371a214e989b6061cfded95444",
            "639e67f281444890849163478e7b0271",
            "d35ebfd6fd694a42b847834aa77bc9e6",
            "56311d9bcea14af9a59b0e0472d0352b",
            "f01cc481835b480586ae784785b5c1f7",
            "f9fc36e841ff471aa1017c777187412b",
            "289324c3e0e34c149fe3ccd1747a63b9",
            "e864d8cfe0114deca5573b19d68e5950",
            "608de91ffbc7424ebe5443693c63dd75",
            "fbd6af40007444e3890f947b7605768a",
            "256a8098a1414dc091e09e6613568b89",
            "6fbeac4506074a809f8792092a0d6ceb",
            "858823a6ad214743bbdcc6cd91caadbf",
            "ec67ddbe3db4419bbef35136bcbd68bc",
            "3f7611b704134ffba3ccbd0c589b52a5",
            "fd2264a824ee432b9ce6b60f4cf311e7",
            "148ca948b7a94dd7843bb7ab6fc31112",
            "11d914573d574b3e9a1c41181007c83b",
            "c67ce3d38c6940b8b52865c8b6e88c0d",
            "6bc28734544d4e519c43c4f7713cb87e",
            "fda5bde64ca84cea9b83367d6a046e3d",
            "28078eee023d49bfb416563674b1d4c1",
            "663008d276a144d2af910117b690c1c2",
            "059eb5ba483c44f9b57cdf276d1b54ca",
            "fe11d1a258724797a2c01810268791f6",
            "0bde4435c175491d84e16ea80f973dc3",
            "9ee085c129af47b8a6ae34e1d3cc44ca",
            "16f932ddd5754f598b823acebf627991",
            "3c0e981f5de54374b9a31f8588d8fa62",
            "8317606c0af2419c877ce7ef12c13d16",
            "0b587b091010414e96144068e4bb9785",
            "56f9ca3fa2b145789da1c480267a1840",
            "4169c5dc3f3b427983eb4b63b38c2610",
            "a07dc047e7f14c55a4922e660a56f074",
            "193c9528c8a44ac3b8cc12d1dd86d77b",
            "70d030fb684f42d394a96e1e8596b901",
            "c0a5eea697774e9d8500d46090b40388",
            "d776930e9dea41debb01242f5e6a6b25",
            "75ac205ebf7548c0b934807d43845d57",
            "03054cacbf2f4fee88d23f008e1432ae",
            "3e4fb0dfdae6439caf02006f4a515b28"
          ]
        },
        "outputId": "4f4da468-30ff-4ff5-cac8-34a581c73f52"
      },
      "execution_count": null,
      "outputs": [
        {
          "output_type": "display_data",
          "data": {
            "application/vnd.jupyter.widget-view+json": {
              "model_id": "94765f87e41c4aa8b76d451116425d80",
              "version_minor": 0,
              "version_major": 2
            },
            "text/plain": [
              "Summarize dataset:   0%|          | 0/35 [00:00<?, ?it/s]"
            ]
          },
          "metadata": {}
        },
        {
          "output_type": "display_data",
          "data": {
            "application/vnd.jupyter.widget-view+json": {
              "model_id": "608de91ffbc7424ebe5443693c63dd75",
              "version_minor": 0,
              "version_major": 2
            },
            "text/plain": [
              "Generate report structure:   0%|          | 0/1 [00:00<?, ?it/s]"
            ]
          },
          "metadata": {}
        },
        {
          "output_type": "display_data",
          "data": {
            "application/vnd.jupyter.widget-view+json": {
              "model_id": "6bc28734544d4e519c43c4f7713cb87e",
              "version_minor": 0,
              "version_major": 2
            },
            "text/plain": [
              "Render HTML:   0%|          | 0/1 [00:00<?, ?it/s]"
            ]
          },
          "metadata": {}
        },
        {
          "output_type": "display_data",
          "data": {
            "application/vnd.jupyter.widget-view+json": {
              "model_id": "0b587b091010414e96144068e4bb9785",
              "version_minor": 0,
              "version_major": 2
            },
            "text/plain": [
              "Export report to file:   0%|          | 0/1 [00:00<?, ?it/s]"
            ]
          },
          "metadata": {}
        }
      ]
    },
    {
      "cell_type": "code",
      "source": [
        "for i in list([1,3,5]):\n",
        "  print(i)"
      ],
      "metadata": {
        "id": "KJXcWYzWQ0F9",
        "colab": {
          "base_uri": "https://localhost:8080/"
        },
        "outputId": "4e3ea3a9-0096-4057-ea8a-f55b19dea0ab"
      },
      "execution_count": null,
      "outputs": [
        {
          "output_type": "stream",
          "name": "stdout",
          "text": [
            "1\n",
            "3\n",
            "5\n"
          ]
        }
      ]
    },
    {
      "cell_type": "code",
      "source": [
        ""
      ],
      "metadata": {
        "id": "_0DIvl9P6mxs"
      },
      "execution_count": null,
      "outputs": []
    },
    {
      "cell_type": "markdown",
      "source": [
        "## Databelton\n",
        "---"
      ],
      "metadata": {
        "id": "bUG1GPJN8G6F"
      }
    },
    {
      "cell_type": "code",
      "source": [
        "import datatable as dt\n",
        "import pyarrow as pa\n"
      ],
      "metadata": {
        "id": "v37rOMSI8OqH"
      },
      "execution_count": null,
      "outputs": []
    },
    {
      "cell_type": "code",
      "source": [
        "dt_f = dt.fread('samdata.csv')"
      ],
      "metadata": {
        "id": "vI3bTADa8m1i"
      },
      "execution_count": null,
      "outputs": []
    },
    {
      "cell_type": "code",
      "source": [
        "dt_f.to_pandas()"
      ],
      "metadata": {
        "id": "khC7-5bIGjY9"
      },
      "execution_count": null,
      "outputs": []
    },
    {
      "cell_type": "code",
      "source": [
        "list(df['No'].values)"
      ],
      "metadata": {
        "id": "HAIuyq4b_hLQ"
      },
      "execution_count": null,
      "outputs": []
    },
    {
      "cell_type": "code",
      "source": [
        "data = dt.Frame(col1 = list(df['No'].values))"
      ],
      "metadata": {
        "id": "JMJXEJtZ9X7n"
      },
      "execution_count": null,
      "outputs": []
    },
    {
      "cell_type": "code",
      "source": [
        "data"
      ],
      "metadata": {
        "colab": {
          "base_uri": "https://localhost:8080/",
          "height": 505
        },
        "id": "Mm7oCzTM_tGX",
        "outputId": "4de7a59b-1758-41de-a6fc-6f16d450fcfc"
      },
      "execution_count": null,
      "outputs": [
        {
          "output_type": "execute_result",
          "data": {
            "text/html": [
              "<div class='datatable'>\n",
              "  <table class='frame'>\n",
              "  <thead>\n",
              "    <tr class='colnames'><td class='row_index'></td><th>col1</th></tr>\n",
              "    <tr class='coltypes'><td class='row_index'></td><td class='int' title='int64'>&#x25AA;&#x25AA;&#x25AA;&#x25AA;&#x25AA;&#x25AA;&#x25AA;&#x25AA;</td></tr>\n",
              "  </thead>\n",
              "  <tbody>\n",
              "    <tr><td class='row_index'>0</td><td>1</td></tr>\n",
              "    <tr><td class='row_index'>1</td><td>2</td></tr>\n",
              "    <tr><td class='row_index'>2</td><td>3</td></tr>\n",
              "    <tr><td class='row_index'>3</td><td>4</td></tr>\n",
              "    <tr><td class='row_index'>4</td><td>5</td></tr>\n",
              "    <tr><td class='row_index'>5</td><td>6</td></tr>\n",
              "    <tr><td class='row_index'>6</td><td>7</td></tr>\n",
              "    <tr><td class='row_index'>7</td><td>8</td></tr>\n",
              "    <tr><td class='row_index'>8</td><td>9</td></tr>\n",
              "    <tr><td class='row_index'>9</td><td>10</td></tr>\n",
              "    <tr><td class='row_index'>10</td><td>11</td></tr>\n",
              "    <tr><td class='row_index'>11</td><td>12</td></tr>\n",
              "    <tr><td class='row_index'>12</td><td>13</td></tr>\n",
              "    <tr><td class='row_index'>13</td><td>14</td></tr>\n",
              "    <tr><td class='row_index'>14</td><td>15</td></tr>\n",
              "    <tr><td class='row_index'>&#x22EE;</td><td class='hellipsis'>&#x22EE;</td></tr>\n",
              "    <tr><td class='row_index'>3131</td><td>3132</td></tr>\n",
              "    <tr><td class='row_index'>3132</td><td>3133</td></tr>\n",
              "    <tr><td class='row_index'>3133</td><td>3134</td></tr>\n",
              "    <tr><td class='row_index'>3134</td><td>3135</td></tr>\n",
              "    <tr><td class='row_index'>3135</td><td>3136</td></tr>\n",
              "  </tbody>\n",
              "  </table>\n",
              "  <div class='footer'>\n",
              "    <div class='frame_dimensions'>3136 rows &times; 1 column</div>\n",
              "  </div>\n",
              "</div>\n"
            ],
            "text/plain": [
              "<Frame#7fe5fbcd1300 3136x1>"
            ]
          },
          "metadata": {},
          "execution_count": 24
        }
      ]
    },
    {
      "cell_type": "code",
      "source": [
        "data.head()"
      ],
      "metadata": {
        "id": "l4ClOHdm_uQH"
      },
      "execution_count": null,
      "outputs": []
    },
    {
      "cell_type": "code",
      "source": [
        ""
      ],
      "metadata": {
        "id": "fWpQUn2xB0dW"
      },
      "execution_count": null,
      "outputs": []
    },
    {
      "cell_type": "code",
      "source": [
        "def get_head_tail(dt, n, head=True):\n",
        "  \"\"\"\n",
        "  takes n and head, returns first n rows with head =True or last n rows with head =False\n",
        "  \"\"\"\n",
        "  if head:\n",
        "    return dt.head(n)\n",
        "  else:\n",
        "    return dt.tail(n)\n"
      ],
      "metadata": {
        "id": "69Z0lwZ1B0gz"
      },
      "execution_count": null,
      "outputs": []
    },
    {
      "cell_type": "code",
      "source": [
        "def get_row_col(dt,row=True):\n",
        "  \"\"\"\n",
        "  takes row, returns number of rows with rows =True and number of columns for rows =False\n",
        "  \"\"\"\n",
        "  if row:\n",
        "    return dt.nrows\n",
        "\n",
        "  else:\n",
        "    return dt.cols"
      ],
      "metadata": {
        "id": "4pqhcKTeCT0N"
      },
      "execution_count": null,
      "outputs": []
    },
    {
      "cell_type": "code",
      "source": [
        "def get_columns_name(dt):\n",
        "  return dt_f.names"
      ],
      "metadata": {
        "id": "dT7H2k5MCqK1"
      },
      "execution_count": null,
      "outputs": []
    },
    {
      "cell_type": "code",
      "source": [
        "def get_columns_type(dt,column_name):\n",
        "  dt_f[column_name].types[0].name  "
      ],
      "metadata": {
        "id": "63Ywmo5iJbbr"
      },
      "execution_count": null,
      "outputs": []
    },
    {
      "cell_type": "code",
      "source": [
        "pa.Table.from_pandas(df)"
      ],
      "metadata": {
        "colab": {
          "base_uri": "https://localhost:8080/"
        },
        "id": "qOqnCeGfDkUZ",
        "outputId": "b48214cb-3833-4531-d224-ce0b467c5087"
      },
      "execution_count": null,
      "outputs": [
        {
          "output_type": "execute_result",
          "data": {
            "text/plain": [
              "pyarrow.Table\n",
              "No: int64\n",
              "Service_type: int64\n",
              "Cost_Type: string\n",
              "Product_Group: string\n",
              "Serial_No: string\n",
              "City: string\n",
              "Product_Date: double\n",
              "Receipt_Date: timestamp[ns]\n",
              "Appoint_Date: timestamp[ns]\n",
              "Complete_Date: timestamp[ns]\n",
              "TAT01: int64\n",
              "TAT02: int64\n",
              "Job_Satus: int64\n",
              "Defect_Des: string\n",
              "Symptom_Desc: string\n",
              "Repair_Action_Desc: string\n",
              "Labor_Charge_Desc: string\n",
              "Engineer: string\n",
              "Labor_Charge_Amount: int64\n",
              "Parts_Amount: double\n",
              "Discount_Amount: double\n",
              "Total_Invoice_Amount: double"
            ]
          },
          "metadata": {},
          "execution_count": 31
        }
      ]
    },
    {
      "cell_type": "code",
      "source": [
        "dt_f['Appoint_Date'].types[0].name"
      ],
      "metadata": {
        "colab": {
          "base_uri": "https://localhost:8080/",
          "height": 35
        },
        "id": "TgrHyrOZEaVJ",
        "outputId": "fa0467c4-1ac0-44d0-e528-ed177413f858"
      },
      "execution_count": null,
      "outputs": [
        {
          "output_type": "execute_result",
          "data": {
            "application/vnd.google.colaboratory.intrinsic+json": {
              "type": "string"
            },
            "text/plain": [
              "'str32'"
            ]
          },
          "metadata": {},
          "execution_count": 57
        }
      ]
    },
    {
      "cell_type": "code",
      "source": [
        ""
      ],
      "metadata": {
        "colab": {
          "base_uri": "https://localhost:8080/"
        },
        "id": "ldHKv_e8GT0t",
        "outputId": "82aca712-a685-4979-82cf-7ce7e851e75b"
      },
      "execution_count": null,
      "outputs": [
        {
          "output_type": "execute_result",
          "data": {
            "text/plain": [
              "<module 'datatable' from '/usr/local/lib/python3.7/dist-packages/datatable/__init__.py'>"
            ]
          },
          "metadata": {},
          "execution_count": 37
        }
      ]
    },
    {
      "cell_type": "code",
      "source": [
        ""
      ],
      "metadata": {
        "id": "vyBwlGtRILAW"
      },
      "execution_count": null,
      "outputs": []
    },
    {
      "cell_type": "markdown",
      "source": [
        "## Pandas Functions"
      ],
      "metadata": {
        "id": "jscnP7-GMk9Q"
      }
    },
    {
      "cell_type": "code",
      "source": [
        "def get_head_tail(df, n, head=True):\n",
        "  \"\"\"\n",
        "  takes df:{dataframe or series} n:{int} and head:{True or False}, returns first n rows with head =True or last n rows with head =False\n",
        "  \"\"\"\n",
        "  if head:\n",
        "    return df.head(n)\n",
        "  else:\n",
        "    return df.tail(n)\n",
        "\n",
        "def get_row_col(df,row=True):\n",
        "  \"\"\"\n",
        "  takes df:{dataframe} row:{True or False}, returns number of rows with rows =True and number of columns for rows =False\n",
        "  \"\"\"\n",
        "  if row:\n",
        "    return len(df)\n",
        "\n",
        "  else:\n",
        "    return len(df.columns)\n",
        "\n",
        "def get_columns_name(df):\n",
        "  \"\"\"\n",
        "  takes df:{dataframe} and returns its column names\n",
        "  \"\"\"\n",
        "  return df.columns\n",
        "\n",
        "def get_columns_type(column_series):\n",
        "  \"\"\"\n",
        "  takes column_series:{pandas series} and returns column's type\n",
        "  \"\"\"\n",
        "  column_series.dtypes.name\n",
        "\n",
        "def get_sorted_column(column_series,ascending=False):\n",
        "  \"\"\"\n",
        "  takes column_series:{pandas series} and returns column{pandas series} sorted\n",
        "  \"\"\"\n",
        "  column_series.sort_values(ascending=ascending)\n",
        "\n",
        "def get_numeric_column_parameters(column_series,param='all'):\n",
        "  \"\"\"\n",
        "  takes column_series:{pandas series},param:{count,sum,mean,median,min,max,mode,std,variance,skew,kurt,distinct,zeros,missing,all} and returns column's parameter\n",
        "  \"\"\" \n",
        "  param_dict = {}\n",
        "\n",
        "  if pd.api.types.is_numeric_dtype(column_series.dtypes):\n",
        "    if param == 'count':\n",
        "      return column_series.count()    \n",
        "    if param == 'mean':\n",
        "      return column_series.mean() \n",
        "    if param == 'sum':\n",
        "      return column_series.sum()\n",
        "    if param == 'median':\n",
        "      return column_series.median()\n",
        "    if param == 'min':\n",
        "      return column_series.min()\n",
        "    if param == 'max':\n",
        "      return column_series.max()\n",
        "    if param == 'mode':\n",
        "      return column_series.mode()\n",
        "    if param == 'std':\n",
        "      return column_series.std()\n",
        "    if param == 'variance':\n",
        "      return column_series.var()\n",
        "    if param == 'skew':\n",
        "      return column_series.skew()\n",
        "    if param == 'kurt':\n",
        "      return column_series.kurt()\n",
        "    if param == 'distinct':\n",
        "      return column_series.nunique()\n",
        "    if param == 'zeros':\n",
        "      return sum(column_series==0)\n",
        "    if param == 'missing':\n",
        "      return sum(column_series.isnull()==True)\n",
        "\n",
        "    if param == 'all':\n",
        "      for i in ['count','sum','mean','median','min','max','mode','std','variance','skew','kurt','distinct','zeros','missing']:\n",
        "        param_dict[i] = get_numeric_column_parameters(column_series,i)\n",
        "      return param_dict\n",
        "\n",
        "    else:\n",
        "      print('not a valid param')\n",
        "\n",
        "  else:\n",
        "    print('not numeric column')\n",
        "\n",
        "def get_n_min_max(column_series,largest=True,n=1):\n",
        "  \"\"\"\n",
        "  takes column_series:{p.Series} largest:{True or False},n:{int} returns nlargest and nsmallest if largest is False\n",
        "  \"\"\"\n",
        "  if largest:\n",
        "    return column_series.nlargest(n)\n",
        "\n",
        "  else:\n",
        "    return column_series.nsmallest(n)\n",
        "\n",
        "\n",
        "\n",
        "def get_object_column_parameters(column_series,param='all',n_most_repeated = 1):\n",
        "  \"\"\"\n",
        "  takes column_series:{pandas series},param:{count,distinct,missing,n_most_repeated,max_length,min_length,all} and returns column's parameter\n",
        "  \"\"\" \n",
        "  param_dict = {}\n",
        "\n",
        "  if not pd.api.types.is_numeric_dtype(column_series.dtypes):\n",
        "    if param == 'count':\n",
        "      return column_series.count()    \n",
        "    if param == 'min_length':\n",
        "      return int(column_series.astype(bytes).str.len().min())\n",
        "    if param == 'max_length':\n",
        "      return int(column_series.astype(bytes).str.len().max())\n",
        "    if param == 'n_most_repeated':\n",
        "      return column_series.value_counts()[0:n_most_repeated]\n",
        "    if param == 'distinct':\n",
        "      return column_series.nunique()\n",
        "    if param == 'missing':\n",
        "      return sum(column_series.isnull()==True)\n",
        "\n",
        "    if param == 'all':\n",
        "      for i in ['count','distinct','missing','n_most_repeated','max_length','min_length']:\n",
        "        param_dict[i] = get_object_column_parameters(column_series,i)\n",
        "      return param_dict\n",
        "\n",
        "    else:\n",
        "      print('not a valid param')\n",
        "\n",
        "  else:\n",
        "    print('not numeric column')\n",
        "\n",
        "\n",
        "def get_timeseries_column_parameters(column_series,param,n_most_repeated = 1):\n",
        "  \"\"\"\n",
        "  takes column_series:{pandas series},param:{count,distinct,missing,n_most_repeated,max_length,min_length,all} and returns column's parameter\n",
        "  \"\"\" \n",
        "  param_dict = {}\n",
        "\n",
        "  try :\n",
        "    column_series = pd.to_datetime(column_series)\n",
        "    if not pd.api.types.is_numeric_dtype(column_series.dtypes):\n",
        "      if param == 'count':\n",
        "        return column_series.count()    \n",
        "      if param == 'min_date':\n",
        "        return  column_series.min()\n",
        "      if param == 'max_date':\n",
        "        return  column_series.max()\n",
        "\n",
        "      # if param == 'min_repeated_year':\n",
        "      #   return  column_series.astype(bytes).str.len().min()\n",
        "      # if param == 'max_repeated_year':\n",
        "      #   return  column_series.astype(bytes).str.len().max()\n",
        "      if param == 'min_year':\n",
        "        return  column_series.min().year\n",
        "      if param == 'max_year':\n",
        "        return  column_series.max().year\n",
        "\n",
        "\n",
        "      # if param == 'min_repeated_month':\n",
        "      #   return  column_series.astype(bytes).str.len().min()\n",
        "      # if param == 'max_repeated_month':\n",
        "      #   return  column_series.astype(bytes).str.len().max()\n",
        "      if param == 'min_month':\n",
        "        return  column_series.min().month\n",
        "      if param == 'max_month':\n",
        "        return  column_series.max().month\n",
        "\n",
        "\n",
        "      if param == 'min_day':\n",
        "        return column_series.min().day\n",
        "      if param == 'max_day':\n",
        "        return  column_series.min().day\n",
        "      # if param == 'min_repeated_day':\n",
        "      #   return  column_series.min().day\n",
        "      # if param == 'max_repeated_day':\n",
        "      #   return  column_series.max().day\n",
        "\n",
        "      if param == 'n_most_repeated':\n",
        "        return column_series.value_counts()[0:n_most_repeated]\n",
        "      if param == 'distinct':\n",
        "        return column_series.nunique()\n",
        "      if param == 'missing':\n",
        "        return sum(column_series.isnull()==True)\n",
        "\n",
        "      if param == 'all':\n",
        "        for i in ['count','distinct','missing','n_most_repeated','max_length','min_length']:\n",
        "          param_dict[i] = get_object_column_parameters(column_series,i)\n",
        "        return param_dict\n",
        "\n",
        "      else:\n",
        "        print('not a valid param')\n",
        "\n",
        "    else:\n",
        "      print('not numeric column')\n",
        "\n",
        "  except:\n",
        "    print('not detected date format')\n",
        "\n",
        "\n",
        "def get_cov_corr(column_series,column_series2):\n",
        "  \"\"\"\n",
        "  takes column_series:{pandas series},column_series:{pandas series} and returns cov,corr \n",
        "  \"\"\" \n",
        "  if pd.api.types.is_numeric_dtype(column_series.dtypes) and pd.api.types.is_numeric_dtype(column_series2.dtypes):\n",
        "    return column_series.cov(column_series2),column_series.corr(column_series2)\n",
        "\n",
        "def change_dtype(column_series,new_type):\n",
        "  \"\"\"\n",
        "  takes column_series:{pandas series},new_type and changes the type of column_series and returns changed column_series\n",
        "  \"\"\" \n",
        "  try:\n",
        "    column_series = column_series.astype(new_type)\n",
        "\n",
        "  except:\n",
        "    print('type is not valid or not possible')\n",
        "\n",
        "\n",
        "def get_dummies(column_series):\n",
        "  \"\"\"\n",
        "   takes column_series:{pandas series} and returns a dummied dataframe\n",
        "  \"\"\"\n",
        "  return pd.get_dummies(column_series)"
      ],
      "metadata": {
        "id": "WfH0sOCAMjxB"
      },
      "execution_count": null,
      "outputs": []
    },
    {
      "cell_type": "code",
      "source": [
        "x = pd.to_datetime(df['Product_Date'])"
      ],
      "metadata": {
        "id": "OBmCUby7NFte"
      },
      "execution_count": null,
      "outputs": []
    },
    {
      "cell_type": "code",
      "source": [
        "x.dropna.year"
      ],
      "metadata": {
        "id": "SCzgy7TRbmmY",
        "colab": {
          "base_uri": "https://localhost:8080/",
          "height": 165
        },
        "outputId": "e1a7ef9f-6003-4d00-957c-b4a2d78fc307"
      },
      "execution_count": null,
      "outputs": [
        {
          "output_type": "error",
          "ename": "AttributeError",
          "evalue": "ignored",
          "traceback": [
            "\u001b[0;31m---------------------------------------------------------------------------\u001b[0m",
            "\u001b[0;31mAttributeError\u001b[0m                            Traceback (most recent call last)",
            "\u001b[0;32m<ipython-input-119-d3e0ccdd5112>\u001b[0m in \u001b[0;36m<module>\u001b[0;34m()\u001b[0m\n\u001b[0;32m----> 1\u001b[0;31m \u001b[0mx\u001b[0m\u001b[0;34m.\u001b[0m\u001b[0mdropna\u001b[0m\u001b[0;34m.\u001b[0m\u001b[0myear\u001b[0m\u001b[0;34m\u001b[0m\u001b[0;34m\u001b[0m\u001b[0m\n\u001b[0m",
            "\u001b[0;31mAttributeError\u001b[0m: 'function' object has no attribute 'year'"
          ]
        }
      ]
    },
    {
      "cell_type": "code",
      "source": [
        ""
      ],
      "metadata": {
        "id": "_UComZOFFKT-"
      },
      "execution_count": null,
      "outputs": []
    },
    {
      "cell_type": "markdown",
      "source": [
        "## Great Expectations"
      ],
      "metadata": {
        "id": "T49Pp8ZPqTLa"
      }
    },
    {
      "cell_type": "code",
      "source": [
        "!great_expectations init\n"
      ],
      "metadata": {
        "colab": {
          "base_uri": "https://localhost:8080/"
        },
        "id": "cLjcKUHXqWRX",
        "outputId": "81aebb71-54fa-474e-cefc-0ce633275135"
      },
      "execution_count": 15,
      "outputs": [
        {
          "output_type": "stream",
          "name": "stdout",
          "text": [
            "/usr/local/lib/python3.7/dist-packages/psycopg2/__init__.py:144: UserWarning: The psycopg2 wheel package will be renamed from release 2.8; in order to keep installing from binary please use \"pip install psycopg2-binary\" instead. For details see: <http://initd.org/psycopg/docs/install.html#binary-install-from-pypi>.\n",
            "  \"\"\")\n",
            "Using v3 (Batch Request) API\u001b[0m\n",
            "\u001b[36m\n",
            "  ___              _     ___                  _        _   _\n",
            " / __|_ _ ___ __ _| |_  | __|_ ___ __  ___ __| |_ __ _| |_(_)___ _ _  ___\n",
            "| (_ | '_/ -_) _` |  _| | _|\\ \\ / '_ \\/ -_) _|  _/ _` |  _| / _ \\ ' \\(_-<\n",
            " \\___|_| \\___\\__,_|\\__| |___/_\\_\\ .__/\\___\\__|\\__\\__,_|\\__|_\\___/_||_/__/\n",
            "                                |_|\n",
            "             ~ Always know what to expect from your data ~\n",
            "\u001b[0m\u001b[0m\n",
            "Let's create a new Data Context to hold your project configuration.\n",
            "\n",
            "Great Expectations will create a new directory with the following structure:\n",
            "\n",
            "    great_expectations\n",
            "    |-- great_expectations.yml\n",
            "    |-- expectations\n",
            "    |-- checkpoints\n",
            "    |-- plugins\n",
            "    |-- .gitignore\n",
            "    |-- uncommitted\n",
            "        |-- config_variables.yml\n",
            "        |-- data_docs\n",
            "        |-- validations\n",
            "\n",
            "OK to proceed? [Y/n]: Y\n",
            "\n",
            "================================================================================\n",
            "\u001b[0m\n",
            "\u001b[36mCongratulations! You are now ready to customize your Great Expectations configuration.\u001b[0m\u001b[0m\n",
            "\n",
            "\u001b[36mYou can customize your configuration in many ways. Here are some examples:\u001b[0m\n",
            "\n",
            "  \u001b[36mUse the CLI to:\u001b[0m\n",
            "    - Run `\u001b[32mgreat_expectations datasource new\u001b[0m` to connect to your data.\n",
            "    - Run `\u001b[32mgreat_expectations checkpoint new <checkpoint_name>\u001b[0m` to bundle data with Expectation Suite(s) in a Checkpoint for later re-validation.\n",
            "    - Run `\u001b[32mgreat_expectations suite --help\u001b[0m` to create, edit, list, profile Expectation Suites.\n",
            "    - Run `\u001b[32mgreat_expectations docs --help\u001b[0m` to build and manage Data Docs sites.\n",
            "\n",
            "  \u001b[36mEdit your configuration in great_expectations.yml to:\u001b[0m\n",
            "    - Move Stores to the cloud\n",
            "    - Add Slack notifications, PagerDuty alerts, etc.\n",
            "    - Customize your Data Docs\n",
            "\n",
            "\u001b[36mPlease see our documentation for more configuration options!\u001b[0m\n",
            "\u001b[0m\n"
          ]
        }
      ]
    },
    {
      "cell_type": "code",
      "source": [
        "!great_expectations datasource new\n",
        "\n"
      ],
      "metadata": {
        "colab": {
          "base_uri": "https://localhost:8080/"
        },
        "id": "T6pECvEIr7Nm",
        "outputId": "3fac14d1-a272-4b45-82a7-78fee8770ea8"
      },
      "execution_count": 16,
      "outputs": [
        {
          "output_type": "stream",
          "name": "stdout",
          "text": [
            "/usr/local/lib/python3.7/dist-packages/psycopg2/__init__.py:144: UserWarning: The psycopg2 wheel package will be renamed from release 2.8; in order to keep installing from binary please use \"pip install psycopg2-binary\" instead. For details see: <http://initd.org/psycopg/docs/install.html#binary-install-from-pypi>.\n",
            "  \"\"\")\n",
            "Using v3 (Batch Request) API\u001b[0m\n",
            "\n",
            "What data would you like Great Expectations to connect to?\n",
            "    1. Files on a filesystem (for processing with Pandas or Spark)\n",
            "    2. Relational database (SQL)\n",
            ": 1\n",
            "\n",
            "What are you processing your files with?\n",
            "1. Pandas\n",
            "2. PySpark\n",
            ": 1\n",
            "\n",
            "Enter the path of the root directory where the data files are stored. If files are on local disk enter a path relative to your current working directory or an absolute path.\n",
            ": /content/samdata.csv\n",
            "Please install the optional dependency 'black' to enable linting. Returning input with no changes.\n",
            "\u001b[32mBecause you requested to create a new Datasource, we'll open a notebook for you now to complete it!\u001b[0m\n",
            "\n",
            "\u001b[0m\n",
            "Traceback (most recent call last):\n",
            "  File \"/usr/local/bin/jupyter-notebook\", line 8, in <module>\n",
            "    sys.exit(main())\n",
            "  File \"/usr/local/lib/python2.7/dist-packages/jupyter_core/application.py\", line 267, in launch_instance\n",
            "    return super(JupyterApp, cls).launch_instance(argv=argv, **kwargs)\n",
            "  File \"/usr/local/lib/python2.7/dist-packages/traitlets/config/application.py\", line 657, in launch_instance\n",
            "    app.initialize(argv)\n",
            "  File \"</usr/local/lib/python2.7/dist-packages/decorator.pyc:decorator-gen-7>\", line 2, in initialize\n",
            "  File \"/usr/local/lib/python2.7/dist-packages/traitlets/config/application.py\", line 87, in catch_config_error\n",
            "    return method(app, *args, **kwargs)\n",
            "  File \"/usr/local/lib/python2.7/dist-packages/notebook/notebookapp.py\", line 1368, in initialize\n",
            "    self.init_webapp()\n",
            "  File \"/usr/local/lib/python2.7/dist-packages/notebook/notebookapp.py\", line 1188, in init_webapp\n",
            "    self.http_server.listen(port, self.ip)\n",
            "  File \"/usr/local/lib/python2.7/dist-packages/tornado/tcpserver.py\", line 142, in listen\n",
            "    sockets = bind_sockets(port, address=address)\n",
            "  File \"/usr/local/lib/python2.7/dist-packages/tornado/netutil.py\", line 197, in bind_sockets\n",
            "    sock.bind(sockaddr)\n",
            "  File \"/usr/lib/python2.7/socket.py\", line 228, in meth\n",
            "    return getattr(self._sock,name)(*args)\n",
            "socket.error: [Errno 99] Cannot assign requested address\n"
          ]
        }
      ]
    },
    {
      "cell_type": "code",
      "source": [
        "1"
      ],
      "metadata": {
        "id": "in_KenQvuARd"
      },
      "execution_count": null,
      "outputs": []
    }
  ]
}