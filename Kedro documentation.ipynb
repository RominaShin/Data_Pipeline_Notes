{
 "cells": [
  {
   "cell_type": "code",
   "execution_count": null,
   "id": "0285dc92",
   "metadata": {},
   "outputs": [],
   "source": []
  },
  {
   "cell_type": "markdown",
   "id": "675903a7",
   "metadata": {},
   "source": [
    "# Dependencies"
   ]
  },
  {
   "cell_type": "markdown",
   "id": "29c776c0",
   "metadata": {},
   "source": [
    "## Connect to Airflow \n",
    "* https://medium.com/quantumblack/kedro-airflow-0-4-0-orchestrating-kedro-pipelines-with-airflow-23fb1283f24d\n",
    "* https://www.astronomer.io/\n",
    "* https://kedro.readthedocs.io/en/stable/10_deployment/11_airflow_astronomer.html"
   ]
  },
  {
   "cell_type": "markdown",
   "id": "7be5d4a5",
   "metadata": {},
   "source": [
    "## Install"
   ]
  },
  {
   "cell_type": "code",
   "execution_count": null,
   "id": "6d23aa04",
   "metadata": {},
   "outputs": [],
   "source": [
    "from warnings import "
   ]
  },
  {
   "cell_type": "code",
   "execution_count": null,
   "id": "dfadf9d8",
   "metadata": {},
   "outputs": [],
   "source": [
    "!pip install kedro\n",
    "!conda install -c conda-forge kedro"
   ]
  },
  {
   "cell_type": "code",
   "execution_count": 36,
   "id": "2fc4c9ab",
   "metadata": {},
   "outputs": [],
   "source": [
    "import kedro"
   ]
  },
  {
   "cell_type": "markdown",
   "id": "57c923cf",
   "metadata": {},
   "source": [
    "## Elements of Kedro"
   ]
  },
  {
   "cell_type": "markdown",
   "id": "585b53ac",
   "metadata": {},
   "source": [
    "### Functions as Node\n",
    "\n",
    "Must define function, input, output"
   ]
  },
  {
   "cell_type": "code",
   "execution_count": 2,
   "id": "6341173c",
   "metadata": {},
   "outputs": [],
   "source": [
    "from kedro.pipeline import node"
   ]
  },
  {
   "cell_type": "code",
   "execution_count": 26,
   "id": "f40212bf",
   "metadata": {},
   "outputs": [],
   "source": [
    "def Hello_world(name):\n",
    "    return \"Hello\" + str(name)\n",
    "\n",
    "hello_world_node = node(func=Hello_world, inputs='name', outputs=\"print_hello\")"
   ]
  },
  {
   "cell_type": "code",
   "execution_count": 19,
   "id": "57e4bb23",
   "metadata": {},
   "outputs": [],
   "source": [
    "def goodbye(name):\n",
    "    return \"bye\" + str(name)\n",
    "\n",
    "goodbye_node = node(func=goodbye, inputs='print_hello', outputs=\"print_goodbye\")"
   ]
  },
  {
   "cell_type": "code",
   "execution_count": 20,
   "id": "99a4f28a",
   "metadata": {},
   "outputs": [
    {
     "data": {
      "text/plain": [
       "Node(goodbye, 'print_hello', 'print_goodbye', None)"
      ]
     },
     "execution_count": 20,
     "metadata": {},
     "output_type": "execute_result"
    }
   ],
   "source": [
    "goodbye_node"
   ]
  },
  {
   "cell_type": "markdown",
   "id": "17a569f4",
   "metadata": {},
   "source": [
    "### Pipeline to Connect Nodes (Functions)\n",
    "define sequence of running nodes"
   ]
  },
  {
   "cell_type": "code",
   "execution_count": 8,
   "id": "026bc1d3",
   "metadata": {},
   "outputs": [],
   "source": [
    "from kedro.pipeline import Pipeline"
   ]
  },
  {
   "cell_type": "code",
   "execution_count": 21,
   "id": "9cff7dfd",
   "metadata": {},
   "outputs": [],
   "source": [
    "pipeline = Pipeline([hello_world_node, goodbye_node])\n"
   ]
  },
  {
   "cell_type": "code",
   "execution_count": 22,
   "id": "d4c9da94",
   "metadata": {},
   "outputs": [
    {
     "data": {
      "text/plain": [
       "Pipeline([\n",
       "Node(Hello_world, 'name', 'print_hello', None),\n",
       "Node(goodbye, 'print_hello', 'print_goodbye', None)\n",
       "])"
      ]
     },
     "execution_count": 22,
     "metadata": {},
     "output_type": "execute_result"
    }
   ],
   "source": [
    "pipeline"
   ]
  },
  {
   "cell_type": "markdown",
   "id": "58a400ae",
   "metadata": {},
   "source": [
    "### Data Catalog\n",
    "It is the record of all data sources that the project can use. It maps the names of node inputs and outputs as keys in a DataSet, which is a Kedro class that can be specialized for different types of data storage. Kedro uses a MemoryDataSet for data that is simply stored in memory."
   ]
  },
  {
   "cell_type": "code",
   "execution_count": 12,
   "id": "7b503b42",
   "metadata": {},
   "outputs": [],
   "source": [
    "from kedro.io import DataCatalog, MemoryDataSet"
   ]
  },
  {
   "cell_type": "markdown",
   "id": "90c4389f",
   "metadata": {},
   "source": [
    "result of given node will be stored in MemoryDataSet"
   ]
  },
  {
   "cell_type": "code",
   "execution_count": 27,
   "id": "5c40f816",
   "metadata": {},
   "outputs": [],
   "source": [
    "data_catalog = DataCatalog({\"print_hello\": MemoryDataSet(),'name':MemoryDataSet('Romina')})\n"
   ]
  },
  {
   "cell_type": "markdown",
   "id": "7ccef5c6",
   "metadata": {},
   "source": [
    "### Runner\n",
    "to run the pipeline\n",
    "<br>\n",
    "types of runners: -Sequential -Abstract -Parallel -Thread\n",
    "        "
   ]
  },
  {
   "cell_type": "code",
   "execution_count": 16,
   "id": "e0a0f022",
   "metadata": {},
   "outputs": [],
   "source": [
    "from kedro.runner import SequentialRunner"
   ]
  },
  {
   "cell_type": "code",
   "execution_count": 17,
   "id": "16ec7dd1",
   "metadata": {},
   "outputs": [],
   "source": [
    "runner = SequentialRunner()"
   ]
  },
  {
   "cell_type": "code",
   "execution_count": 28,
   "id": "391005b9",
   "metadata": {},
   "outputs": [
    {
     "name": "stderr",
     "output_type": "stream",
     "text": [
      "C:\\ProgramData\\Anaconda3\\lib\\site-packages\\kedro\\io\\data_catalog.py:189: DeprecationWarning: The transformer API will be deprecated in Kedro 0.18.0.Please use Dataset Hooks to customise the load and save methods.For more information, please visithttps://kedro.readthedocs.io/en/stable/07_extend_kedro/02_hooks.html\n",
      "  warnings.warn(\n"
     ]
    },
    {
     "data": {
      "text/plain": [
       "{'print_goodbye': 'byeHelloRomina'}"
      ]
     },
     "execution_count": 28,
     "metadata": {},
     "output_type": "execute_result"
    }
   ],
   "source": [
    "runner.run(pipeline, data_catalog)"
   ]
  },
  {
   "cell_type": "markdown",
   "id": "e6998088",
   "metadata": {},
   "source": [
    "## Visualize Pipline"
   ]
  },
  {
   "cell_type": "code",
   "execution_count": null,
   "id": "30450705",
   "metadata": {},
   "outputs": [],
   "source": [
    "!pip install kedro-viz"
   ]
  },
  {
   "cell_type": "code",
   "execution_count": null,
   "id": "00b866af",
   "metadata": {},
   "outputs": [],
   "source": [
    "from kedro_viz import  "
   ]
  },
  {
   "cell_type": "code",
   "execution_count": null,
   "id": "bce057f8",
   "metadata": {},
   "outputs": [],
   "source": []
  },
  {
   "cell_type": "code",
   "execution_count": 37,
   "id": "e90442ec",
   "metadata": {},
   "outputs": [
    {
     "data": {
      "text/plain": [
       "'0.17.6'"
      ]
     },
     "execution_count": 37,
     "metadata": {},
     "output_type": "execute_result"
    }
   ],
   "source": [
    "kedro.__version__"
   ]
  },
  {
   "cell_type": "code",
   "execution_count": null,
   "id": "75cdc1b4",
   "metadata": {},
   "outputs": [],
   "source": []
  },
  {
   "cell_type": "markdown",
   "id": "54c2219c",
   "metadata": {},
   "source": [
    "# Run a Project\n",
    "* https://towardsdatascience.com/pipelines-with-kedro-298504d254e5"
   ]
  },
  {
   "cell_type": "code",
   "execution_count": null,
   "id": "be9240b6",
   "metadata": {},
   "outputs": [],
   "source": [
    "!kedro new #to create a project ---- name all things as you wish, repeated is ok"
   ]
  },
  {
   "cell_type": "markdown",
   "id": "1904b363",
   "metadata": {},
   "source": [
    "* Create a requirement.txt in your src dir\n",
    "* add data file to ./data\n",
    "* ./conf/base/catalog.yml --> type of your Data (for example: pandas.CSVDataSet) and path of your data"
   ]
  },
  {
   "cell_type": "markdown",
   "id": "5f859074",
   "metadata": {},
   "source": [
    "create Piplelines"
   ]
  },
  {
   "cell_type": "code",
   "execution_count": null,
   "id": "622ffa7f",
   "metadata": {},
   "outputs": [],
   "source": [
    "!kedro run #same directory as you ran kedro new"
   ]
  },
  {
   "cell_type": "code",
   "execution_count": null,
   "id": "12adb9f7",
   "metadata": {},
   "outputs": [],
   "source": [
    "kedro viz"
   ]
  }
 ],
 "metadata": {
  "kernelspec": {
   "display_name": "Python 3 (ipykernel)",
   "language": "python",
   "name": "python3"
  },
  "language_info": {
   "codemirror_mode": {
    "name": "ipython",
    "version": 3
   },
   "file_extension": ".py",
   "mimetype": "text/x-python",
   "name": "python",
   "nbconvert_exporter": "python",
   "pygments_lexer": "ipython3",
   "version": "3.8.12"
  }
 },
 "nbformat": 4,
 "nbformat_minor": 5
}
